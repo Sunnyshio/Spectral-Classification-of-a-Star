plt.figure(figsize=(15, 10))

plt.subplot(2,4,1)
plt.title("Temperature vs Spectral class")
sns.scatterplot(x=df["Temperature (K)"], y=df["Spectral Class"])

plt.subplot(2,4,2)
plt.title("Luminosity vs Spectral class")
sns.scatterplot(x=df["Luminosity(L/Lo)"], y=df["Spectral Class"])

plt.subplot(2,4,3)
plt.title("Radius vs Spectral class")
sns.scatterplot(x=df["Radius(R/Ro)"], y=df["Spectral Class"])

plt.subplot(2,4,4)
plt.title("Mv vs Spectral class")
sns.scatterplot(x=df["Absolute magnitude(Mv)"], y=df["Spectral Class"])

plt.subplot(2,4,5)
plt.title("Temperature vs Spectral class (splitted)")
sns.scatterplot(x=x_train["Absolute magnitude(Mv)"], y=y_train["Spectral Class"])

plt.tight_layout()
plt.show()