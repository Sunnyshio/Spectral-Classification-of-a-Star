{
  "cells": [
    {
      "cell_type": "markdown",
      "metadata": {},
      "source": [
        "### Importing libraries"
      ]
    },
    {
      "cell_type": "code",
      "execution_count": 9,
      "metadata": {
        "id": "OmoPOUg9z5Q4"
      },
      "outputs": [],
      "source": [
        "import pandas as pd\n",
        "import numpy as np"
      ]
    },
    {
      "cell_type": "markdown",
      "metadata": {},
      "source": [
        "### Importing the dataset"
      ]
    },
    {
      "cell_type": "code",
      "execution_count": 3,
      "metadata": {},
      "outputs": [
        {
          "data": {
            "text/html": [
              "<div>\n",
              "<style scoped>\n",
              "    .dataframe tbody tr th:only-of-type {\n",
              "        vertical-align: middle;\n",
              "    }\n",
              "\n",
              "    .dataframe tbody tr th {\n",
              "        vertical-align: top;\n",
              "    }\n",
              "\n",
              "    .dataframe thead th {\n",
              "        text-align: right;\n",
              "    }\n",
              "</style>\n",
              "<table border=\"1\" class=\"dataframe\">\n",
              "  <thead>\n",
              "    <tr style=\"text-align: right;\">\n",
              "      <th></th>\n",
              "      <th>Temperature (K)</th>\n",
              "      <th>Luminosity(L/Lo)</th>\n",
              "      <th>Radius(R/Ro)</th>\n",
              "      <th>Absolute magnitude(Mv)</th>\n",
              "      <th>Star type</th>\n",
              "      <th>Star color</th>\n",
              "      <th>Spectral Class</th>\n",
              "    </tr>\n",
              "  </thead>\n",
              "  <tbody>\n",
              "    <tr>\n",
              "      <th>0</th>\n",
              "      <td>3042</td>\n",
              "      <td>0.0005</td>\n",
              "      <td>0.1542</td>\n",
              "      <td>16.6</td>\n",
              "      <td>0</td>\n",
              "      <td>Red</td>\n",
              "      <td>M</td>\n",
              "    </tr>\n",
              "    <tr>\n",
              "      <th>1</th>\n",
              "      <td>2600</td>\n",
              "      <td>0.0003</td>\n",
              "      <td>0.102</td>\n",
              "      <td>18.7</td>\n",
              "      <td>0</td>\n",
              "      <td>Red</td>\n",
              "      <td>M</td>\n",
              "    </tr>\n",
              "    <tr>\n",
              "      <th>2</th>\n",
              "      <td>2800</td>\n",
              "      <td>0.0002</td>\n",
              "      <td></td>\n",
              "      <td>16.65</td>\n",
              "      <td>0</td>\n",
              "      <td>Red</td>\n",
              "      <td>M</td>\n",
              "    </tr>\n",
              "    <tr>\n",
              "      <th>3</th>\n",
              "      <td>1939</td>\n",
              "      <td>0.000138</td>\n",
              "      <td>0.103</td>\n",
              "      <td>20.06</td>\n",
              "      <td>0</td>\n",
              "      <td>Red</td>\n",
              "      <td>M</td>\n",
              "    </tr>\n",
              "    <tr>\n",
              "      <th>4</th>\n",
              "      <td>2840</td>\n",
              "      <td></td>\n",
              "      <td>0.11</td>\n",
              "      <td>16.98</td>\n",
              "      <td>0</td>\n",
              "      <td>Red</td>\n",
              "      <td>M</td>\n",
              "    </tr>\n",
              "    <tr>\n",
              "      <th>...</th>\n",
              "      <td>...</td>\n",
              "      <td>...</td>\n",
              "      <td>...</td>\n",
              "      <td>...</td>\n",
              "      <td>...</td>\n",
              "      <td>...</td>\n",
              "      <td>...</td>\n",
              "    </tr>\n",
              "    <tr>\n",
              "      <th>234</th>\n",
              "      <td>38940</td>\n",
              "      <td>374830</td>\n",
              "      <td>1356</td>\n",
              "      <td>-9.93</td>\n",
              "      <td>5</td>\n",
              "      <td>Blue</td>\n",
              "      <td>O</td>\n",
              "    </tr>\n",
              "    <tr>\n",
              "      <th>235</th>\n",
              "      <td>30839</td>\n",
              "      <td>834042</td>\n",
              "      <td>1194</td>\n",
              "      <td>-10.63</td>\n",
              "      <td>5</td>\n",
              "      <td>Blue</td>\n",
              "      <td>O</td>\n",
              "    </tr>\n",
              "    <tr>\n",
              "      <th>236</th>\n",
              "      <td>8829</td>\n",
              "      <td>537493</td>\n",
              "      <td>1423</td>\n",
              "      <td>-10.73</td>\n",
              "      <td>5</td>\n",
              "      <td>White</td>\n",
              "      <td>A</td>\n",
              "    </tr>\n",
              "    <tr>\n",
              "      <th>237</th>\n",
              "      <td>9235</td>\n",
              "      <td>404940</td>\n",
              "      <td>1112</td>\n",
              "      <td>-11.23</td>\n",
              "      <td>5</td>\n",
              "      <td>White</td>\n",
              "      <td>A</td>\n",
              "    </tr>\n",
              "    <tr>\n",
              "      <th>238</th>\n",
              "      <td>37882</td>\n",
              "      <td>294903</td>\n",
              "      <td>1783</td>\n",
              "      <td>-7.8</td>\n",
              "      <td>5</td>\n",
              "      <td>Blue</td>\n",
              "      <td>O</td>\n",
              "    </tr>\n",
              "  </tbody>\n",
              "</table>\n",
              "<p>239 rows × 7 columns</p>\n",
              "</div>"
            ],
            "text/plain": [
              "    Temperature (K) Luminosity(L/Lo) Radius(R/Ro) Absolute magnitude(Mv)  \\\n",
              "0              3042           0.0005       0.1542                   16.6   \n",
              "1              2600           0.0003        0.102                   18.7   \n",
              "2              2800           0.0002                               16.65   \n",
              "3              1939         0.000138        0.103                  20.06   \n",
              "4              2840                          0.11                  16.98   \n",
              "..              ...              ...          ...                    ...   \n",
              "234           38940           374830         1356                  -9.93   \n",
              "235           30839           834042         1194                 -10.63   \n",
              "236            8829           537493         1423                 -10.73   \n",
              "237            9235           404940         1112                 -11.23   \n",
              "238           37882           294903         1783                   -7.8   \n",
              "\n",
              "     Star type Star color Spectral Class  \n",
              "0            0        Red              M  \n",
              "1            0        Red              M  \n",
              "2            0        Red              M  \n",
              "3            0        Red              M  \n",
              "4            0        Red              M  \n",
              "..         ...        ...            ...  \n",
              "234          5       Blue              O  \n",
              "235          5       Blue              O  \n",
              "236          5      White              A  \n",
              "237          5      White              A  \n",
              "238          5       Blue              O  \n",
              "\n",
              "[239 rows x 7 columns]"
            ]
          },
          "execution_count": 3,
          "metadata": {},
          "output_type": "execute_result"
        }
      ],
      "source": [
        "path ='/Users/maryrosejofelvillacampa/Desktop/datasets/astronomical_data.csv'\n",
        "df = pd.read_csv(path)\n",
        "df = pd.DataFrame(df)\n",
        "df"
      ]
    },
    {
      "cell_type": "markdown",
      "metadata": {},
      "source": [
        "### Data exploration"
      ]
    },
    {
      "cell_type": "code",
      "execution_count": 15,
      "metadata": {},
      "outputs": [
        {
          "name": "stdout",
          "output_type": "stream",
          "text": [
            "There are 239 rows by 7 columns.\n",
            "There are no duplicated rows in the dataset.\n",
            "The number of empty cells are listed below per feature.\n",
            "Temperature (K)           2\n",
            "Luminosity(L/Lo)          6\n",
            "Radius(R/Ro)              7\n",
            "Absolute magnitude(Mv)    5\n",
            "Star type                 0\n",
            "Star color                6\n",
            "Spectral Class            2\n",
            "dtype: int64\n"
          ]
        }
      ],
      "source": [
        "df[[\"Temperature (K)\", \"Luminosity(L/Lo)\", \"Radius(R/Ro)\", \"Absolute magnitude(Mv)\", \"Star type\"]] = \\\n",
        "df[[\"Temperature (K)\", \"Luminosity(L/Lo)\", \"Radius(R/Ro)\", \"Absolute magnitude(Mv)\", \"Star type\"]].apply(pd.to_numeric, errors='coerce')\n",
        "df[\"Star color\"] = pd.Categorical(df[\"Star color\"])\n",
        "df[\"Spectral Class\"] = pd.Categorical(df[\"Spectral Class\"])\n",
        "\n",
        "df[\"Star color\"] = df[\"Star color\"].replace(\"\\s\", np.nan, regex=True)\n",
        "df[\"Spectral Class\"] = df[\"Spectral Class\"].replace(\"\\s\", np.nan, regex=True)\n",
        "\n",
        "shape = df.shape\n",
        "print(f\"There are {shape[0]} rows by {shape[1]} columns.\")\n",
        "\n",
        "dupes = df.duplicated().sum()\n",
        "if dupes == 0:\n",
        "    print(\"There are no duplicated rows in the dataset.\")\n",
        "else:\n",
        "    print(f\"There are {dupes} duplicated rows in the dataset\")\n",
        "\n",
        "print(\"The number of empty cells are listed below per feature.\")\n",
        "nulls = df.isnull().sum()\n",
        "print(nulls)\n"
      ]
    },
    {
      "cell_type": "markdown",
      "metadata": {},
      "source": [
        "## Data cleaning"
      ]
    },
    {
      "cell_type": "markdown",
      "metadata": {},
      "source": [
        "### Temperature (K)"
      ]
    },
    {
      "cell_type": "code",
      "execution_count": 18,
      "metadata": {},
      "outputs": [
        {
          "name": "stdout",
          "output_type": "stream",
          "text": [
            "There are zero null values in the Temperature column\n"
          ]
        }
      ],
      "source": [
        "mean_temp = df[\"Temperature (K)\"].mean()\n",
        "df[\"Temperature (K)\"] = df[\"Temperature (K)\"].fillna(mean_temp)\n",
        "\n",
        "null_temp = df[\"Temperature (K)\"].isnull().sum()\n",
        "if null_temp == 0:\n",
        "    print(\"There are zero null values in the Temperature column\")\n",
        "else:\n",
        "    print(f\"There are {null_temp} empty cells in the column.\")"
      ]
    },
    {
      "cell_type": "markdown",
      "metadata": {},
      "source": [
        "### Luminosity (L/Lo)"
      ]
    },
    {
      "cell_type": "code",
      "execution_count": 19,
      "metadata": {},
      "outputs": [
        {
          "name": "stdout",
          "output_type": "stream",
          "text": [
            "There are zero null values in the Luminosity column\n"
          ]
        }
      ],
      "source": [
        "mean_lum = df[\"Luminosity(L/Lo)\"].mean()\n",
        "df[\"Luminosity(L/Lo)\"] = df[\"Luminosity(L/Lo)\"].fillna(mean_lum)\n",
        "\n",
        "null_lum = df[\"Luminosity(L/Lo)\"].isnull().sum()\n",
        "if null_lum == 0:\n",
        "    print(\"There are zero null values in the Luminosity column\")\n",
        "else:\n",
        "    print(f\"There are {null_temp} empty cells in the column.\")"
      ]
    },
    {
      "cell_type": "markdown",
      "metadata": {},
      "source": [
        "### Absolute magnitude (Mv)"
      ]
    },
    {
      "cell_type": "code",
      "execution_count": 20,
      "metadata": {},
      "outputs": [
        {
          "name": "stdout",
          "output_type": "stream",
          "text": [
            "There are zero null values in the Absolute magnitude column.\n"
          ]
        }
      ],
      "source": [
        "mean_mv = df[\"Absolute magnitude(Mv)\"].mean()\n",
        "df[\"Absolute magnitude(Mv)\"] = df[\"Absolute magnitude(Mv)\"].fillna(mean_mv)\n",
        "\n",
        "null_mv = df[\"Absolute magnitude(Mv)\"].isnull().sum()\n",
        "if null_mv == 0:\n",
        "    print(\"There are zero null values in the Absolute magnitude column.\")\n",
        "else:\n",
        "    print(f\"There are {null_mv} empty cells in the column.\")"
      ]
    }
  ],
  "metadata": {
    "colab": {
      "provenance": []
    },
    "kernelspec": {
      "display_name": "base",
      "language": "python",
      "name": "python3"
    },
    "language_info": {
      "codemirror_mode": {
        "name": "ipython",
        "version": 3
      },
      "file_extension": ".py",
      "mimetype": "text/x-python",
      "name": "python",
      "nbconvert_exporter": "python",
      "pygments_lexer": "ipython3",
      "version": "3.10.9"
    }
  },
  "nbformat": 4,
  "nbformat_minor": 0
}
