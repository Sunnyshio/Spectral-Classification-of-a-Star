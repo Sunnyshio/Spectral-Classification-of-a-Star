{
  "cells": [
    {
      "cell_type": "markdown",
      "metadata": {},
      "source": [
        "### Importing libraries"
      ]
    },
    {
      "cell_type": "code",
      "execution_count": 45,
      "metadata": {
        "id": "OmoPOUg9z5Q4"
      },
      "outputs": [],
      "source": [
        "import pandas as pd\n",
        "import numpy as np\n",
        "from sklearn.neighbors import KNeighborsClassifier\n",
        "import re\n",
        "from sklearn.preprocessing import StandardScaler\n",
        "scale = StandardScaler()\n",
        "from sklearn.model_selection import train_test_split\n",
        "import matplotlib\n",
        "matplotlib.use('tkAgg')\n",
        "import matplotlib.pyplot as plt\n",
        "import seaborn as sns\n",
        "%matplotlib inline\n",
        "from sklearn import linear_model\n",
        "from sklearn.metrics import mean_absolute_error, root_mean_squared_error, r2_score\n",
        "from sklearn.model_selection import GridSearchCV"
      ]
    },
    {
      "cell_type": "markdown",
      "metadata": {},
      "source": [
        "### Importing the dataset"
      ]
    },
    {
      "cell_type": "code",
      "execution_count": 46,
      "metadata": {},
      "outputs": [
        {
          "data": {
            "text/html": [
              "<div>\n",
              "<style scoped>\n",
              "    .dataframe tbody tr th:only-of-type {\n",
              "        vertical-align: middle;\n",
              "    }\n",
              "\n",
              "    .dataframe tbody tr th {\n",
              "        vertical-align: top;\n",
              "    }\n",
              "\n",
              "    .dataframe thead th {\n",
              "        text-align: right;\n",
              "    }\n",
              "</style>\n",
              "<table border=\"1\" class=\"dataframe\">\n",
              "  <thead>\n",
              "    <tr style=\"text-align: right;\">\n",
              "      <th></th>\n",
              "      <th>Temperature (K)</th>\n",
              "      <th>Luminosity(L/Lo)</th>\n",
              "      <th>Radius(R/Ro)</th>\n",
              "      <th>Absolute magnitude(Mv)</th>\n",
              "      <th>Star type</th>\n",
              "      <th>Star color</th>\n",
              "      <th>Spectral Class</th>\n",
              "    </tr>\n",
              "  </thead>\n",
              "  <tbody>\n",
              "    <tr>\n",
              "      <th>0</th>\n",
              "      <td>3042</td>\n",
              "      <td>0.0005</td>\n",
              "      <td>0.1542</td>\n",
              "      <td>16.6</td>\n",
              "      <td>0</td>\n",
              "      <td>Red</td>\n",
              "      <td>M</td>\n",
              "    </tr>\n",
              "    <tr>\n",
              "      <th>1</th>\n",
              "      <td>2600</td>\n",
              "      <td>0.0003</td>\n",
              "      <td>0.102</td>\n",
              "      <td>18.7</td>\n",
              "      <td>0</td>\n",
              "      <td>Red</td>\n",
              "      <td>M</td>\n",
              "    </tr>\n",
              "    <tr>\n",
              "      <th>2</th>\n",
              "      <td>2800</td>\n",
              "      <td>0.0002</td>\n",
              "      <td></td>\n",
              "      <td>16.65</td>\n",
              "      <td>0</td>\n",
              "      <td>Red</td>\n",
              "      <td>M</td>\n",
              "    </tr>\n",
              "    <tr>\n",
              "      <th>3</th>\n",
              "      <td>1939</td>\n",
              "      <td>0.000138</td>\n",
              "      <td>0.103</td>\n",
              "      <td>20.06</td>\n",
              "      <td>0</td>\n",
              "      <td>Red</td>\n",
              "      <td>M</td>\n",
              "    </tr>\n",
              "    <tr>\n",
              "      <th>4</th>\n",
              "      <td>2840</td>\n",
              "      <td></td>\n",
              "      <td>0.11</td>\n",
              "      <td>16.98</td>\n",
              "      <td>0</td>\n",
              "      <td>Red</td>\n",
              "      <td>M</td>\n",
              "    </tr>\n",
              "    <tr>\n",
              "      <th>...</th>\n",
              "      <td>...</td>\n",
              "      <td>...</td>\n",
              "      <td>...</td>\n",
              "      <td>...</td>\n",
              "      <td>...</td>\n",
              "      <td>...</td>\n",
              "      <td>...</td>\n",
              "    </tr>\n",
              "    <tr>\n",
              "      <th>234</th>\n",
              "      <td>38940</td>\n",
              "      <td>374830</td>\n",
              "      <td>1356</td>\n",
              "      <td>-9.93</td>\n",
              "      <td>5</td>\n",
              "      <td>Blue</td>\n",
              "      <td>O</td>\n",
              "    </tr>\n",
              "    <tr>\n",
              "      <th>235</th>\n",
              "      <td>30839</td>\n",
              "      <td>834042</td>\n",
              "      <td>1194</td>\n",
              "      <td>-10.63</td>\n",
              "      <td>5</td>\n",
              "      <td>Blue</td>\n",
              "      <td>O</td>\n",
              "    </tr>\n",
              "    <tr>\n",
              "      <th>236</th>\n",
              "      <td>8829</td>\n",
              "      <td>537493</td>\n",
              "      <td>1423</td>\n",
              "      <td>-10.73</td>\n",
              "      <td>5</td>\n",
              "      <td>White</td>\n",
              "      <td>A</td>\n",
              "    </tr>\n",
              "    <tr>\n",
              "      <th>237</th>\n",
              "      <td>9235</td>\n",
              "      <td>404940</td>\n",
              "      <td>1112</td>\n",
              "      <td>-11.23</td>\n",
              "      <td>5</td>\n",
              "      <td>White</td>\n",
              "      <td>A</td>\n",
              "    </tr>\n",
              "    <tr>\n",
              "      <th>238</th>\n",
              "      <td>37882</td>\n",
              "      <td>294903</td>\n",
              "      <td>1783</td>\n",
              "      <td>-7.8</td>\n",
              "      <td>5</td>\n",
              "      <td>Blue</td>\n",
              "      <td>O</td>\n",
              "    </tr>\n",
              "  </tbody>\n",
              "</table>\n",
              "<p>239 rows × 7 columns</p>\n",
              "</div>"
            ],
            "text/plain": [
              "    Temperature (K) Luminosity(L/Lo)  ... Star color Spectral Class\n",
              "0              3042           0.0005  ...        Red              M\n",
              "1              2600           0.0003  ...        Red              M\n",
              "2              2800           0.0002  ...        Red              M\n",
              "3              1939         0.000138  ...        Red              M\n",
              "4              2840                   ...        Red              M\n",
              "..              ...              ...  ...        ...            ...\n",
              "234           38940           374830  ...       Blue              O\n",
              "235           30839           834042  ...       Blue              O\n",
              "236            8829           537493  ...      White              A\n",
              "237            9235           404940  ...      White              A\n",
              "238           37882           294903  ...       Blue              O\n",
              "\n",
              "[239 rows x 7 columns]"
            ]
          },
          "execution_count": 46,
          "metadata": {},
          "output_type": "execute_result"
        }
      ],
      "source": [
        "path ='/Users/maryrosejofelvillacampa/Desktop/datasets/astronomical_data.csv'\n",
        "df = pd.read_csv(path)\n",
        "df = pd.DataFrame(df)\n",
        "df"
      ]
    },
    {
      "cell_type": "markdown",
      "metadata": {},
      "source": [
        "### Data exploration"
      ]
    },
    {
      "cell_type": "code",
      "execution_count": 47,
      "metadata": {},
      "outputs": [
        {
          "name": "stdout",
          "output_type": "stream",
          "text": [
            "There are 239 rows by 7 columns.\n",
            "There are no duplicated rows in the dataset.\n",
            "The number of empty cells are listed below per feature.\n",
            "Temperature (K)           2\n",
            "Luminosity(L/Lo)          6\n",
            "Radius(R/Ro)              7\n",
            "Absolute magnitude(Mv)    5\n",
            "Star type                 0\n",
            "Star color                6\n",
            "Spectral Class            2\n",
            "dtype: int64\n"
          ]
        }
      ],
      "source": [
        "#converting columns \"Temperature (K)\", \"Luminosity(L/Lo)\", \"Radius(R/Ro)\", \"Absolute magnitude(Mv)\", \"Star type\" into numeric format\n",
        "df[[\"Temperature (K)\", \"Luminosity(L/Lo)\", \"Radius(R/Ro)\", \"Absolute magnitude(Mv)\", \"Star type\"]] = \\\n",
        "df[[\"Temperature (K)\", \"Luminosity(L/Lo)\", \"Radius(R/Ro)\", \"Absolute magnitude(Mv)\", \"Star type\"]].apply(pd.to_numeric, errors='coerce')\n",
        "df[\"Star color\"] = pd.Categorical(df[\"Star color\"])\n",
        "df[\"Spectral Class\"] = pd.Categorical(df[\"Spectral Class\"])\n",
        "\n",
        "#replacing empty cells for columns \"Star color\" and \"Spectral Class\" with NaN\n",
        "df[\"Star color\"] = df[\"Star color\"].replace(\"\\s\", np.nan, regex=True)\n",
        "df[\"Spectral Class\"] = df[\"Spectral Class\"].replace(\"\\s\", np.nan, regex=True)\n",
        "\n",
        "#inspecting the dimension of the dataset\n",
        "shape = df.shape\n",
        "print(f\"There are {shape[0]} rows by {shape[1]} columns.\")\n",
        "\n",
        "#checking for duplicated rows in the dataset\n",
        "dupes = df.duplicated().sum()\n",
        "if dupes == 0:\n",
        "    print(\"There are no duplicated rows in the dataset.\")\n",
        "else:\n",
        "    print(f\"There are {dupes} duplicated rows in the dataset\")\n",
        "\n",
        "print(\"The number of empty cells are listed below per feature.\")\n",
        "\n",
        "#checking the null values for each column\n",
        "nulls = df.isnull().sum()\n",
        "print(nulls)\n"
      ]
    },
    {
      "cell_type": "markdown",
      "metadata": {},
      "source": [
        "### Data preprocessing"
      ]
    },
    {
      "cell_type": "markdown",
      "metadata": {},
      "source": [
        "#### Temperature (K)"
      ]
    },
    {
      "cell_type": "code",
      "execution_count": 48,
      "metadata": {},
      "outputs": [
        {
          "name": "stdout",
          "output_type": "stream",
          "text": [
            "There are zero null values in the Temperature column\n"
          ]
        }
      ],
      "source": [
        "mean_temp = df[\"Temperature (K)\"].mean() #gets the mean from the temperature values\n",
        "df[\"Temperature (K)\"] = df[\"Temperature (K)\"].fillna(mean_temp) #filling the empty temperature cells with the mean temperature\n",
        "\n",
        "#checks for null values in the temperature column\n",
        "null_temp = df[\"Temperature (K)\"].isnull().sum()\n",
        "if null_temp == 0:\n",
        "    print(\"There are zero null values in the Temperature column\")\n",
        "else:\n",
        "    print(f\"There are {null_temp} empty cells in the column.\")"
      ]
    },
    {
      "cell_type": "markdown",
      "metadata": {},
      "source": [
        "#### Luminosity (L/Lo)"
      ]
    },
    {
      "cell_type": "code",
      "execution_count": 49,
      "metadata": {},
      "outputs": [
        {
          "name": "stdout",
          "output_type": "stream",
          "text": [
            "There are zero null values in the Luminosity column\n"
          ]
        }
      ],
      "source": [
        "mean_lum = df[\"Luminosity(L/Lo)\"].mean() #gets the mean from the luminosity values\n",
        "df[\"Luminosity(L/Lo)\"] = df[\"Luminosity(L/Lo)\"].fillna(mean_lum) #filling the empty luminosity cells with the mean luminosity\n",
        "\n",
        "#checks for null values in the luminosity column\n",
        "null_lum = df[\"Luminosity(L/Lo)\"].isnull().sum()\n",
        "if null_lum == 0:\n",
        "    print(\"There are zero null values in the Luminosity column\")\n",
        "else:\n",
        "    print(f\"There are {null_temp} empty cells in the column.\")"
      ]
    },
    {
      "cell_type": "markdown",
      "metadata": {},
      "source": [
        "#### Absolute magnitude (Mv)"
      ]
    },
    {
      "cell_type": "code",
      "execution_count": 50,
      "metadata": {},
      "outputs": [
        {
          "name": "stdout",
          "output_type": "stream",
          "text": [
            "There are zero null values in the Absolute magnitude column.\n"
          ]
        }
      ],
      "source": [
        "mean_mv = df[\"Absolute magnitude(Mv)\"].mean() #gets the mean from the absolute magnitude values\n",
        "df[\"Absolute magnitude(Mv)\"] = df[\"Absolute magnitude(Mv)\"].fillna(mean_mv) #filling the empty absolute magnitude cells with the mean absolute magnitude\n",
        "\n",
        "#checks for null values in the absolute magnitude column\n",
        "null_mv = df[\"Absolute magnitude(Mv)\"].isnull().sum()\n",
        "if null_mv == 0:\n",
        "    print(\"There are zero null values in the Absolute magnitude column.\")\n",
        "else:\n",
        "    print(f\"There are {null_mv} empty cells in the column.\")"
      ]
    },
    {
      "cell_type": "markdown",
      "metadata": {},
      "source": [
        "#### Radius (R/Ro)"
      ]
    },
    {
      "cell_type": "code",
      "execution_count": 51,
      "metadata": {},
      "outputs": [
        {
          "name": "stdout",
          "output_type": "stream",
          "text": [
            "There are zero null values in the Radius column.\n"
          ]
        }
      ],
      "source": [
        "mean_rad = df[\"Radius(R/Ro)\"].mean() #gets the mean from the Radius values\n",
        "df[\"Radius(R/Ro)\"] = df[\"Radius(R/Ro)\"].fillna(mean_rad) #filling the empty Radius cells with the mean Radius\n",
        "\n",
        "#checks for null values in the Radius column\n",
        "null_rad = df[\"Radius(R/Ro)\"].isnull().sum()\n",
        "if null_rad == 0:\n",
        "    print(\"There are zero null values in the Radius column.\")\n",
        "else:\n",
        "    print(f\"There are {null_rad} empty cells in the column.\")"
      ]
    },
    {
      "cell_type": "markdown",
      "metadata": {},
      "source": [
        "#### Spectral Class"
      ]
    },
    {
      "cell_type": "code",
      "execution_count": 52,
      "metadata": {},
      "outputs": [],
      "source": [
        "df = df.dropna(subset=[\"Spectral Class\"]) #drops the the rows with empty values in the spectral class column"
      ]
    },
    {
      "cell_type": "code",
      "execution_count": 53,
      "metadata": {},
      "outputs": [
        {
          "name": "stdout",
          "output_type": "stream",
          "text": [
            "Temperature (K)           0\n",
            "Luminosity(L/Lo)          0\n",
            "Radius(R/Ro)              0\n",
            "Absolute magnitude(Mv)    0\n",
            "Star type                 0\n",
            "Star color                6\n",
            "Spectral Class            0\n",
            "dtype: int64\n"
          ]
        }
      ],
      "source": [
        "# checks the number of null values per feature\n",
        "nulls = df.isnull().sum()\n",
        "print(nulls)"
      ]
    },
    {
      "cell_type": "code",
      "execution_count": 54,
      "metadata": {},
      "outputs": [
        {
          "name": "stdout",
          "output_type": "stream",
          "text": [
            "['M', 'B', 'A', 'F', 'O', 'K', 'G']\n",
            "Categories (8, object): [' ', 'A', 'B', 'F', 'G', 'K', 'M', 'O']\n",
            "Spectral Class\n",
            "M    109\n",
            "B     46\n",
            "O     39\n",
            "A     19\n",
            "F     17\n",
            "K      6\n",
            "G      1\n",
            "       0\n",
            "Name: count, dtype: int64\n"
          ]
        }
      ],
      "source": [
        "print(df[\"Spectral Class\"].unique()) #checks all unique values for the spectral class column\n",
        "print(df[\"Spectral Class\"].value_counts()) #checks the number of values per spectral class unique values"
      ]
    },
    {
      "cell_type": "code",
      "execution_count": 55,
      "metadata": {},
      "outputs": [
        {
          "name": "stderr",
          "output_type": "stream",
          "text": [
            "/var/folders/j4/s0vszz0s5x7cw3y1602v15cc0000gn/T/ipykernel_3728/3828840828.py:2: FutureWarning: The behavior of Series.replace (and DataFrame.replace) with CategoricalDtype is deprecated. In a future version, replace will only be used for cases that preserve the categories. To change the categories, use ser.cat.rename_categories instead.\n",
            "  df[\"Spectral Class\"] = df[\"Spectral Class\"].replace({\n",
            "/var/folders/j4/s0vszz0s5x7cw3y1602v15cc0000gn/T/ipykernel_3728/3828840828.py:2: SettingWithCopyWarning: \n",
            "A value is trying to be set on a copy of a slice from a DataFrame.\n",
            "Try using .loc[row_indexer,col_indexer] = value instead\n",
            "\n",
            "See the caveats in the documentation: https://pandas.pydata.org/pandas-docs/stable/user_guide/indexing.html#returning-a-view-versus-a-copy\n",
            "  df[\"Spectral Class\"] = df[\"Spectral Class\"].replace({\n",
            "/var/folders/j4/s0vszz0s5x7cw3y1602v15cc0000gn/T/ipykernel_3728/3828840828.py:11: SettingWithCopyWarning: \n",
            "A value is trying to be set on a copy of a slice from a DataFrame.\n",
            "Try using .loc[row_indexer,col_indexer] = value instead\n",
            "\n",
            "See the caveats in the documentation: https://pandas.pydata.org/pandas-docs/stable/user_guide/indexing.html#returning-a-view-versus-a-copy\n",
            "  df[\"Spectral Class\"] = pd.to_numeric(df[\"Spectral Class\"])\n"
          ]
        },
        {
          "data": {
            "text/html": [
              "<div>\n",
              "<style scoped>\n",
              "    .dataframe tbody tr th:only-of-type {\n",
              "        vertical-align: middle;\n",
              "    }\n",
              "\n",
              "    .dataframe tbody tr th {\n",
              "        vertical-align: top;\n",
              "    }\n",
              "\n",
              "    .dataframe thead th {\n",
              "        text-align: right;\n",
              "    }\n",
              "</style>\n",
              "<table border=\"1\" class=\"dataframe\">\n",
              "  <thead>\n",
              "    <tr style=\"text-align: right;\">\n",
              "      <th></th>\n",
              "      <th>Temperature (K)</th>\n",
              "      <th>Luminosity(L/Lo)</th>\n",
              "      <th>Radius(R/Ro)</th>\n",
              "      <th>Absolute magnitude(Mv)</th>\n",
              "      <th>Star type</th>\n",
              "      <th>Star color</th>\n",
              "      <th>Spectral Class</th>\n",
              "    </tr>\n",
              "  </thead>\n",
              "  <tbody>\n",
              "    <tr>\n",
              "      <th>0</th>\n",
              "      <td>3042.0</td>\n",
              "      <td>0.000500</td>\n",
              "      <td>0.154200</td>\n",
              "      <td>16.60</td>\n",
              "      <td>0</td>\n",
              "      <td>Red</td>\n",
              "      <td>0</td>\n",
              "    </tr>\n",
              "    <tr>\n",
              "      <th>1</th>\n",
              "      <td>2600.0</td>\n",
              "      <td>0.000300</td>\n",
              "      <td>0.102000</td>\n",
              "      <td>18.70</td>\n",
              "      <td>0</td>\n",
              "      <td>Red</td>\n",
              "      <td>0</td>\n",
              "    </tr>\n",
              "    <tr>\n",
              "      <th>2</th>\n",
              "      <td>2800.0</td>\n",
              "      <td>0.000200</td>\n",
              "      <td>238.393907</td>\n",
              "      <td>16.65</td>\n",
              "      <td>0</td>\n",
              "      <td>Red</td>\n",
              "      <td>0</td>\n",
              "    </tr>\n",
              "    <tr>\n",
              "      <th>3</th>\n",
              "      <td>1939.0</td>\n",
              "      <td>0.000138</td>\n",
              "      <td>0.103000</td>\n",
              "      <td>20.06</td>\n",
              "      <td>0</td>\n",
              "      <td>Red</td>\n",
              "      <td>0</td>\n",
              "    </tr>\n",
              "    <tr>\n",
              "      <th>4</th>\n",
              "      <td>2840.0</td>\n",
              "      <td>107266.981895</td>\n",
              "      <td>0.110000</td>\n",
              "      <td>16.98</td>\n",
              "      <td>0</td>\n",
              "      <td>Red</td>\n",
              "      <td>0</td>\n",
              "    </tr>\n",
              "    <tr>\n",
              "      <th>...</th>\n",
              "      <td>...</td>\n",
              "      <td>...</td>\n",
              "      <td>...</td>\n",
              "      <td>...</td>\n",
              "      <td>...</td>\n",
              "      <td>...</td>\n",
              "      <td>...</td>\n",
              "    </tr>\n",
              "    <tr>\n",
              "      <th>234</th>\n",
              "      <td>38940.0</td>\n",
              "      <td>374830.000000</td>\n",
              "      <td>1356.000000</td>\n",
              "      <td>-9.93</td>\n",
              "      <td>5</td>\n",
              "      <td>Blue</td>\n",
              "      <td>6</td>\n",
              "    </tr>\n",
              "    <tr>\n",
              "      <th>235</th>\n",
              "      <td>30839.0</td>\n",
              "      <td>834042.000000</td>\n",
              "      <td>1194.000000</td>\n",
              "      <td>-10.63</td>\n",
              "      <td>5</td>\n",
              "      <td>Blue</td>\n",
              "      <td>6</td>\n",
              "    </tr>\n",
              "    <tr>\n",
              "      <th>236</th>\n",
              "      <td>8829.0</td>\n",
              "      <td>537493.000000</td>\n",
              "      <td>1423.000000</td>\n",
              "      <td>-10.73</td>\n",
              "      <td>5</td>\n",
              "      <td>White</td>\n",
              "      <td>4</td>\n",
              "    </tr>\n",
              "    <tr>\n",
              "      <th>237</th>\n",
              "      <td>9235.0</td>\n",
              "      <td>404940.000000</td>\n",
              "      <td>1112.000000</td>\n",
              "      <td>-11.23</td>\n",
              "      <td>5</td>\n",
              "      <td>White</td>\n",
              "      <td>4</td>\n",
              "    </tr>\n",
              "    <tr>\n",
              "      <th>238</th>\n",
              "      <td>37882.0</td>\n",
              "      <td>294903.000000</td>\n",
              "      <td>1783.000000</td>\n",
              "      <td>-7.80</td>\n",
              "      <td>5</td>\n",
              "      <td>Blue</td>\n",
              "      <td>6</td>\n",
              "    </tr>\n",
              "  </tbody>\n",
              "</table>\n",
              "<p>237 rows × 7 columns</p>\n",
              "</div>"
            ],
            "text/plain": [
              "     Temperature (K)  Luminosity(L/Lo)  ...  Star color  Spectral Class\n",
              "0             3042.0          0.000500  ...         Red               0\n",
              "1             2600.0          0.000300  ...         Red               0\n",
              "2             2800.0          0.000200  ...         Red               0\n",
              "3             1939.0          0.000138  ...         Red               0\n",
              "4             2840.0     107266.981895  ...         Red               0\n",
              "..               ...               ...  ...         ...             ...\n",
              "234          38940.0     374830.000000  ...        Blue               6\n",
              "235          30839.0     834042.000000  ...        Blue               6\n",
              "236           8829.0     537493.000000  ...       White               4\n",
              "237           9235.0     404940.000000  ...       White               4\n",
              "238          37882.0     294903.000000  ...        Blue               6\n",
              "\n",
              "[237 rows x 7 columns]"
            ]
          },
          "execution_count": 55,
          "metadata": {},
          "output_type": "execute_result"
        }
      ],
      "source": [
        "# ordinal encoding for spectral class feature \n",
        "df[\"Spectral Class\"] = df[\"Spectral Class\"].replace({\n",
        "    \"M\": 0,\n",
        "    \"K\": 1,\n",
        "    \"G\": 2,\n",
        "    \"F\": 3,\n",
        "    \"A\": 4,\n",
        "    \"B\": 5,\n",
        "    \"O\": 6,\n",
        "})\n",
        "df[\"Spectral Class\"] = pd.to_numeric(df[\"Spectral Class\"])\n",
        "\n",
        "df #prints the df to checks and see if the spectral class is converted from categorical to numerical values"
      ]
    },
    {
      "cell_type": "markdown",
      "metadata": {},
      "source": [
        "#### Star color"
      ]
    },
    {
      "cell_type": "code",
      "execution_count": 56,
      "metadata": {},
      "outputs": [
        {
          "name": "stderr",
          "output_type": "stream",
          "text": [
            "/var/folders/j4/s0vszz0s5x7cw3y1602v15cc0000gn/T/ipykernel_3728/1367713166.py:1: SettingWithCopyWarning: \n",
            "A value is trying to be set on a copy of a slice from a DataFrame.\n",
            "Try using .loc[row_indexer,col_indexer] = value instead\n",
            "\n",
            "See the caveats in the documentation: https://pandas.pydata.org/pandas-docs/stable/user_guide/indexing.html#returning-a-view-versus-a-copy\n",
            "  df[\"Star color\"] = df[\"Star color\"].replace(\"\\s\", np.nan, regex=True) #replacing empty values (white spaces) in cells with NaN\n",
            "/var/folders/j4/s0vszz0s5x7cw3y1602v15cc0000gn/T/ipykernel_3728/1367713166.py:8: SettingWithCopyWarning: \n",
            "A value is trying to be set on a copy of a slice from a DataFrame.\n",
            "Try using .loc[row_indexer,col_indexer] = value instead\n",
            "\n",
            "See the caveats in the documentation: https://pandas.pydata.org/pandas-docs/stable/user_guide/indexing.html#returning-a-view-versus-a-copy\n",
            "  df_not_missing[\"Star color\"] = pd.Categorical(df_not_missing[\"Star color\"]).codes\n",
            "/var/folders/j4/s0vszz0s5x7cw3y1602v15cc0000gn/T/ipykernel_3728/1367713166.py:14: SettingWithCopyWarning: \n",
            "A value is trying to be set on a copy of a slice from a DataFrame.\n",
            "Try using .loc[row_indexer,col_indexer] = value instead\n",
            "\n",
            "See the caveats in the documentation: https://pandas.pydata.org/pandas-docs/stable/user_guide/indexing.html#returning-a-view-versus-a-copy\n",
            "  df_missing[\"Star color\"] = knn.predict(df_missing[features])\n",
            "/var/folders/j4/s0vszz0s5x7cw3y1602v15cc0000gn/T/ipykernel_3728/1367713166.py:16: SettingWithCopyWarning: \n",
            "A value is trying to be set on a copy of a slice from a DataFrame.\n",
            "Try using .loc[row_indexer,col_indexer] = value instead\n",
            "\n",
            "See the caveats in the documentation: https://pandas.pydata.org/pandas-docs/stable/user_guide/indexing.html#returning-a-view-versus-a-copy\n",
            "  df['Star color'] = pd.Categorical(df['Star color'])\n",
            "/var/folders/j4/s0vszz0s5x7cw3y1602v15cc0000gn/T/ipykernel_3728/1367713166.py:17: SettingWithCopyWarning: \n",
            "A value is trying to be set on a copy of a slice from a DataFrame.\n",
            "Try using .loc[row_indexer,col_indexer] = value instead\n",
            "\n",
            "See the caveats in the documentation: https://pandas.pydata.org/pandas-docs/stable/user_guide/indexing.html#returning-a-view-versus-a-copy\n",
            "  df['Star color'] = pd.Categorical(df['Star color'], categories=pd.Categorical(df_not_missing['Star color']).categories)\n"
          ]
        },
        {
          "data": {
            "text/html": [
              "<div>\n",
              "<style scoped>\n",
              "    .dataframe tbody tr th:only-of-type {\n",
              "        vertical-align: middle;\n",
              "    }\n",
              "\n",
              "    .dataframe tbody tr th {\n",
              "        vertical-align: top;\n",
              "    }\n",
              "\n",
              "    .dataframe thead th {\n",
              "        text-align: right;\n",
              "    }\n",
              "</style>\n",
              "<table border=\"1\" class=\"dataframe\">\n",
              "  <thead>\n",
              "    <tr style=\"text-align: right;\">\n",
              "      <th></th>\n",
              "      <th>Temperature (K)</th>\n",
              "      <th>Luminosity(L/Lo)</th>\n",
              "      <th>Radius(R/Ro)</th>\n",
              "      <th>Absolute magnitude(Mv)</th>\n",
              "      <th>Star type</th>\n",
              "      <th>Star color</th>\n",
              "      <th>Spectral Class</th>\n",
              "    </tr>\n",
              "  </thead>\n",
              "  <tbody>\n",
              "    <tr>\n",
              "      <th>0</th>\n",
              "      <td>3042.0</td>\n",
              "      <td>0.000500</td>\n",
              "      <td>0.154200</td>\n",
              "      <td>16.60</td>\n",
              "      <td>0</td>\n",
              "      <td>3</td>\n",
              "      <td>0</td>\n",
              "    </tr>\n",
              "    <tr>\n",
              "      <th>1</th>\n",
              "      <td>2600.0</td>\n",
              "      <td>0.000300</td>\n",
              "      <td>0.102000</td>\n",
              "      <td>18.70</td>\n",
              "      <td>0</td>\n",
              "      <td>3</td>\n",
              "      <td>0</td>\n",
              "    </tr>\n",
              "    <tr>\n",
              "      <th>2</th>\n",
              "      <td>2800.0</td>\n",
              "      <td>0.000200</td>\n",
              "      <td>238.393907</td>\n",
              "      <td>16.65</td>\n",
              "      <td>0</td>\n",
              "      <td>3</td>\n",
              "      <td>0</td>\n",
              "    </tr>\n",
              "    <tr>\n",
              "      <th>3</th>\n",
              "      <td>1939.0</td>\n",
              "      <td>0.000138</td>\n",
              "      <td>0.103000</td>\n",
              "      <td>20.06</td>\n",
              "      <td>0</td>\n",
              "      <td>3</td>\n",
              "      <td>0</td>\n",
              "    </tr>\n",
              "    <tr>\n",
              "      <th>4</th>\n",
              "      <td>2840.0</td>\n",
              "      <td>107266.981895</td>\n",
              "      <td>0.110000</td>\n",
              "      <td>16.98</td>\n",
              "      <td>0</td>\n",
              "      <td>3</td>\n",
              "      <td>0</td>\n",
              "    </tr>\n",
              "    <tr>\n",
              "      <th>...</th>\n",
              "      <td>...</td>\n",
              "      <td>...</td>\n",
              "      <td>...</td>\n",
              "      <td>...</td>\n",
              "      <td>...</td>\n",
              "      <td>...</td>\n",
              "      <td>...</td>\n",
              "    </tr>\n",
              "    <tr>\n",
              "      <th>234</th>\n",
              "      <td>38940.0</td>\n",
              "      <td>374830.000000</td>\n",
              "      <td>1356.000000</td>\n",
              "      <td>-9.93</td>\n",
              "      <td>5</td>\n",
              "      <td>1</td>\n",
              "      <td>6</td>\n",
              "    </tr>\n",
              "    <tr>\n",
              "      <th>235</th>\n",
              "      <td>30839.0</td>\n",
              "      <td>834042.000000</td>\n",
              "      <td>1194.000000</td>\n",
              "      <td>-10.63</td>\n",
              "      <td>5</td>\n",
              "      <td>1</td>\n",
              "      <td>6</td>\n",
              "    </tr>\n",
              "    <tr>\n",
              "      <th>236</th>\n",
              "      <td>8829.0</td>\n",
              "      <td>537493.000000</td>\n",
              "      <td>1423.000000</td>\n",
              "      <td>-10.73</td>\n",
              "      <td>5</td>\n",
              "      <td>4</td>\n",
              "      <td>4</td>\n",
              "    </tr>\n",
              "    <tr>\n",
              "      <th>237</th>\n",
              "      <td>9235.0</td>\n",
              "      <td>404940.000000</td>\n",
              "      <td>1112.000000</td>\n",
              "      <td>-11.23</td>\n",
              "      <td>5</td>\n",
              "      <td>4</td>\n",
              "      <td>4</td>\n",
              "    </tr>\n",
              "    <tr>\n",
              "      <th>238</th>\n",
              "      <td>37882.0</td>\n",
              "      <td>294903.000000</td>\n",
              "      <td>1783.000000</td>\n",
              "      <td>-7.80</td>\n",
              "      <td>5</td>\n",
              "      <td>1</td>\n",
              "      <td>6</td>\n",
              "    </tr>\n",
              "  </tbody>\n",
              "</table>\n",
              "<p>237 rows × 7 columns</p>\n",
              "</div>"
            ],
            "text/plain": [
              "     Temperature (K)  Luminosity(L/Lo)  ...  Star color  Spectral Class\n",
              "0             3042.0          0.000500  ...           3               0\n",
              "1             2600.0          0.000300  ...           3               0\n",
              "2             2800.0          0.000200  ...           3               0\n",
              "3             1939.0          0.000138  ...           3               0\n",
              "4             2840.0     107266.981895  ...           3               0\n",
              "..               ...               ...  ...         ...             ...\n",
              "234          38940.0     374830.000000  ...           1               6\n",
              "235          30839.0     834042.000000  ...           1               6\n",
              "236           8829.0     537493.000000  ...           4               4\n",
              "237           9235.0     404940.000000  ...           4               4\n",
              "238          37882.0     294903.000000  ...           1               6\n",
              "\n",
              "[237 rows x 7 columns]"
            ]
          },
          "execution_count": 56,
          "metadata": {},
          "output_type": "execute_result"
        }
      ],
      "source": [
        "df[\"Star color\"] = df[\"Star color\"].replace(\"\\s\", np.nan, regex=True) #replacing empty values (white spaces) in cells with NaN\n",
        "\n",
        "features = ['Temperature (K)', 'Luminosity(L/Lo)', 'Radius(R/Ro)', 'Absolute magnitude(Mv)'] #assigning features for imputing the star color missing values\n",
        "\n",
        "df_missing = df[df[\"Star color\"].isnull()] #creates a dataset for the rows with missing star color values\n",
        "df_not_missing = df[df[\"Star color\"].notnull()] #creates a dataset for the rows with present star color values\n",
        "\n",
        "df_not_missing[\"Star color\"] = pd.Categorical(df_not_missing[\"Star color\"]).codes \n",
        "\n",
        "#knn imputer for predicting the star color values \n",
        "knn = KNeighborsClassifier(n_neighbors=1)\n",
        "knn.fit(df_not_missing[features], df_not_missing[\"Star color\"])\n",
        "\n",
        "df_missing[\"Star color\"] = knn.predict(df_missing[features])\n",
        "\n",
        "df['Star color'] = pd.Categorical(df['Star color'])\n",
        "df['Star color'] = pd.Categorical(df['Star color'], categories=pd.Categorical(df_not_missing['Star color']).categories)\n",
        "\n",
        "dfn = pd.concat([df_not_missing, df_missing]).sort_index()\n",
        "\n",
        "df = pd.DataFrame(dfn)\n",
        "df"
      ]
    },
    {
      "cell_type": "code",
      "execution_count": 57,
      "metadata": {},
      "outputs": [],
      "source": [
        "# df[\"Star color\"] = pd.Categorical(df[\"Star color\"])\n",
        "\n",
        "# df[\"Star color\"] = df[\"Star color\"].replace({\n",
        "#     0: \"Blue\",\n",
        "#     1: \"Blue-white\",\n",
        "#     2: \"Red\",\n",
        "#     3: \"White\",\n",
        "#     4: \"Yellow-white\",\n",
        "# })\n",
        "\n",
        "# df"
      ]
    },
    {
      "cell_type": "code",
      "execution_count": 58,
      "metadata": {},
      "outputs": [
        {
          "name": "stdout",
          "output_type": "stream",
          "text": [
            "Temperature (K)           0\n",
            "Luminosity(L/Lo)          0\n",
            "Radius(R/Ro)              0\n",
            "Absolute magnitude(Mv)    0\n",
            "Star type                 0\n",
            "Star color                0\n",
            "Spectral Class            0\n",
            "dtype: int64\n"
          ]
        }
      ],
      "source": [
        "nulls = df.isnull().sum()\n",
        "print(nulls)"
      ]
    },
    {
      "cell_type": "markdown",
      "metadata": {},
      "source": [
        "### Data processing"
      ]
    },
    {
      "cell_type": "code",
      "execution_count": 59,
      "metadata": {},
      "outputs": [],
      "source": [
        "x_features = df[['Temperature (K)', 'Luminosity(L/Lo)', 'Radius(R/Ro)', 'Absolute magnitude(Mv)']] #define x features (predictors)\n",
        "y_features = df[\"Spectral Class\"] #defines y feature (value that will be predicted)\n",
        "\n",
        "scaledx_features = scale.fit_transform(x_features) #scales the x features for the values to be comparable\n",
        "scaledx_features = pd.DataFrame(scaledx_features, columns=[\"Temperature (K)\", \"Luminosity(L/Lo)\", \"Radius(R/Ro)\", \"Absolute magnitude(Mv)\"]) #turns the scaled array data into a dataframe\n",
        "\n",
        "x_train, x_test, y_train, y_test = train_test_split(scaledx_features, y_features, test_size=0.2, random_state=42) #splits the training (80%) and test 20% (sets) "
      ]
    },
    {
      "cell_type": "code",
      "execution_count": 60,
      "metadata": {},
      "outputs": [
        {
          "data": {
            "image/png": "[encoded data removed]",
            "text/plain": [
              "<Figure size 1500x1000 with 8 Axes>"
            ]
          },
          "metadata": {},
          "output_type": "display_data"
        }
      ],
      "source": [
        "plt.figure(figsize=(15, 10)) #size of the entire plot figure\n",
        "\n",
        "#plot 1 – plots temperature vs spectral class (data is not yet splitted)\n",
        "plt.subplot(2,4,1)\n",
        "plt.title(\"Temperature vs Spectral class\")\n",
        "sns.scatterplot(x=scaledx_features[\"Temperature (K)\"], y=y_features)\n",
        "\n",
        "#plot 2 – plots luminosity vs spectral class (data is not yet splitted)\n",
        "plt.subplot(2,4,2)\n",
        "plt.title(\"Luminosity vs Spectral class\")\n",
        "sns.scatterplot(x=df[\"Luminosity(L/Lo)\"], y=df[\"Spectral Class\"])\n",
        "\n",
        "#plot 3 – plots radius vs spectral class (data is not yet splitted)\n",
        "plt.subplot(2,4,3)\n",
        "plt.title(\"Radius vs Spectral class\")\n",
        "sns.scatterplot(x=df[\"Radius(R/Ro)\"], y=df[\"Spectral Class\"])\n",
        "\n",
        "#plot 4 – plots absolute magnitude vs spectral class (data is not yet splitted)\n",
        "plt.subplot(2,4,4)\n",
        "plt.title(\"Mv vs Spectral class\")\n",
        "sns.scatterplot(x=df[\"Absolute magnitude(Mv)\"], y=df[\"Spectral Class\"])\n",
        "\n",
        "#plot 5 – plots temperature vs spectral class (data is splitted, training and test sets are plotted in the same scatter plot in different colors)\n",
        "plt.subplot(2,4,5)\n",
        "plt.title(\"Temperature vs Spectral class (splitted)\")\n",
        "sns.scatterplot(x=x_train[\"Temperature (K)\"], y=y_train, color='red')\n",
        "sns.scatterplot(x=x_test[\"Temperature (K)\"], y=y_test, color='green')\n",
        "\n",
        "#plot 6 – plots luminosity vs spectral class (data is splitted, training and test sets are plotted in the same scatter plot in different colors)\n",
        "plt.subplot(2,4,6)\n",
        "plt.title(\"Luminosity vs Spectral class (splitted)\")\n",
        "sns.scatterplot(x=x_train[\"Luminosity(L/Lo)\"], y=y_train, color='red')\n",
        "sns.scatterplot(x=x_test[\"Luminosity(L/Lo)\"], y=y_test, color='green')\n",
        "\n",
        "#plot 7 – plots radius vs spectral class (data is splitted, training and test sets are plotted in the same scatter plot in different colors)\n",
        "plt.subplot(2,4,7)\n",
        "plt.title(\"Radius vs Spectral class (splitted)\")\n",
        "sns.scatterplot(x=x_train[\"Radius(R/Ro)\"], y=y_train, color='red')\n",
        "sns.scatterplot(x=x_test[\"Radius(R/Ro)\"], y=y_test, color='green')\n",
        "\n",
        "#plot 8 – plots absolute magnitude vs spectral class (data is splitted, training and test sets are plotted in the same scatter plot in different colors)\n",
        "plt.subplot(2,4,8)\n",
        "plt.title(\"Mv vs Spectral class (splitted)\")\n",
        "sns.scatterplot(x=x_train[\"Absolute magnitude(Mv)\"], y=y_train, color='red')\n",
        "sns.scatterplot(x=x_test[\"Absolute magnitude(Mv)\"], y=y_test, color='green')\n",
        "\n",
        "plt.suptitle(\"Comparison of Whole Data vs Splitted Data \")\n",
        "plt.tight_layout()\n",
        "plt.show()"
      ]
    },
    {
      "cell_type": "code",
      "execution_count": 61,
      "metadata": {},
      "outputs": [
        {
          "name": "stdout",
          "output_type": "stream",
          "text": [
            "                        Temperature (K)  ...  Spectral Class\n",
            "Temperature (K)                1.000000  ...        0.812943\n",
            "Luminosity(L/Lo)               0.398854  ...        0.337186\n",
            "Radius(R/Ro)                   0.056543  ...       -0.059152\n",
            "Absolute magnitude(Mv)        -0.435199  ...       -0.426575\n",
            "Spectral Class                 0.812943  ...        1.000000\n",
            "\n",
            "[5 rows x 5 columns]\n"
          ]
        }
      ],
      "source": [
        "#checks the correlation of each variable with each other\n",
        "corr_view = df[['Temperature (K)', 'Luminosity(L/Lo)', 'Radius(R/Ro)', 'Absolute magnitude(Mv)', 'Spectral Class']].corr()\n",
        "print(corr_view)"
      ]
    },
    {
      "cell_type": "markdown",
      "metadata": {},
      "source": [
        "### Data modeling"
      ]
    },
    {
      "cell_type": "code",
      "execution_count": 62,
      "metadata": {},
      "outputs": [],
      "source": [
        "model = linear_model.LinearRegression() #creates a regression object\n",
        "model.fit(x_train, y_train) #fits the training sets into the regression object\n",
        "\n",
        "y_pred = model.predict(x_test) #the model is used to predict y values using the x_test values and stores it in a y_pred variable"
      ]
    },
    {
      "cell_type": "markdown",
      "metadata": {},
      "source": [
        "### Model assessment"
      ]
    },
    {
      "cell_type": "code",
      "execution_count": 63,
      "metadata": {},
      "outputs": [
        {
          "name": "stdout",
          "output_type": "stream",
          "text": [
            "Mean Absolute Error: 1.07\n",
            "Root Mean Squared Error: 1.34\n",
            "R-squared: 0.68\n"
          ]
        }
      ],
      "source": [
        "MAE = mean_absolute_error(y_test, y_pred) #gets the mean absolute error\n",
        "MSE = root_mean_squared_error(y_test, y_pred) #gets the root mean squared error\n",
        "rsquared = r2_score(y_test, y_pred) #gets the r-squared calculation\n",
        "\n",
        "print(f\"Mean Absolute Error: {MAE:.2f}\")\n",
        "print(f\"Root Mean Squared Error: {MSE:.2f}\")\n",
        "print(f\"R-squared: {rsquared:.2f}\")"
      ]
    }
  ],
  "metadata": {
    "colab": {
      "provenance": []
    },
    "kernelspec": {
      "display_name": "base",
      "language": "python",
      "name": "python3"
    },
    "language_info": {
      "codemirror_mode": {
        "name": "ipython",
        "version": 3
      },
      "file_extension": ".py",
      "mimetype": "text/x-python",
      "name": "python",
      "nbconvert_exporter": "python",
      "pygments_lexer": "ipython3",
      "version": "3.10.9"
    }
  },
  "nbformat": 4,
  "nbformat_minor": 0
}
