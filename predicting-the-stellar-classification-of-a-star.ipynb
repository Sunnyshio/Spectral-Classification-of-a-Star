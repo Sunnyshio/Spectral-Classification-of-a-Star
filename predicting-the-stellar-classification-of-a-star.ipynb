{
 "cells": [
  {
   "cell_type": "markdown",
   "id": "61119308",
   "metadata": {
    "papermill": {
     "duration": 0.008098,
     "end_time": "2024-10-28T05:19:38.108625",
     "exception": false,
     "start_time": "2024-10-28T05:19:38.100527",
     "status": "completed"
    },
    "tags": []
   },
   "source": [
    "### Importing libraries"
   ]
  },
  {
   "cell_type": "code",
   "execution_count": 1,
   "id": "46c9278d",
   "metadata": {
    "_cell_guid": "b1076dfc-b9ad-4769-8c92-a6c4dae69d19",
    "_uuid": "8f2839f25d086af736a60e9eeb907d3b93b6e0e5",
    "execution": {
     "iopub.execute_input": "2024-10-28T05:19:38.124641Z",
     "iopub.status.busy": "2024-10-28T05:19:38.124230Z",
     "iopub.status.idle": "2024-10-28T05:19:41.432389Z",
     "shell.execute_reply": "2024-10-28T05:19:41.431481Z"
    },
    "papermill": {
     "duration": 3.318848,
     "end_time": "2024-10-28T05:19:41.434963",
     "exception": false,
     "start_time": "2024-10-28T05:19:38.116115",
     "status": "completed"
    },
    "tags": []
   },
   "outputs": [],
   "source": [
    "import pandas as pd\n",
    "import numpy as np\n",
    "import sklearn\n",
    "from sklearn.neighbors import KNeighborsClassifier\n",
    "import re\n",
    "from sklearn.preprocessing import StandardScaler\n",
    "scale = StandardScaler()\n",
    "from sklearn.model_selection import train_test_split\n",
    "import matplotlib.pyplot as plt\n",
    "import seaborn as sns\n",
    "%matplotlib inline\n",
    "from sklearn import linear_model\n",
    "from sklearn.metrics import mean_absolute_error, mean_squared_error, r2_score\n",
    "from sklearn.model_selection import GridSearchCV\n",
    "from sklearn.metrics import accuracy_score, confusion_matrix, classification_report\n",
    "from imblearn.over_sampling import RandomOverSampler\n",
    "from imblearn.pipeline import make_pipeline\n",
    "from imblearn.over_sampling import ADASYN"
   ]
  },
  {
   "cell_type": "markdown",
   "id": "1b232482",
   "metadata": {
    "papermill": {
     "duration": 0.006644,
     "end_time": "2024-10-28T05:19:41.448532",
     "exception": false,
     "start_time": "2024-10-28T05:19:41.441888",
     "status": "completed"
    },
    "tags": []
   },
   "source": [
    "### Importing the dataset"
   ]
  },
  {
   "cell_type": "code",
   "execution_count": 2,
   "id": "23e5721b",
   "metadata": {
    "execution": {
     "iopub.execute_input": "2024-10-28T05:19:41.463880Z",
     "iopub.status.busy": "2024-10-28T05:19:41.463269Z",
     "iopub.status.idle": "2024-10-28T05:19:41.510700Z",
     "shell.execute_reply": "2024-10-28T05:19:41.509396Z"
    },
    "papermill": {
     "duration": 0.057711,
     "end_time": "2024-10-28T05:19:41.513059",
     "exception": false,
     "start_time": "2024-10-28T05:19:41.455348",
     "status": "completed"
    },
    "tags": []
   },
   "outputs": [
    {
     "data": {
      "text/html": [
       "<div>\n",
       "<style scoped>\n",
       "    .dataframe tbody tr th:only-of-type {\n",
       "        vertical-align: middle;\n",
       "    }\n",
       "\n",
       "    .dataframe tbody tr th {\n",
       "        vertical-align: top;\n",
       "    }\n",
       "\n",
       "    .dataframe thead th {\n",
       "        text-align: right;\n",
       "    }\n",
       "</style>\n",
       "<table border=\"1\" class=\"dataframe\">\n",
       "  <thead>\n",
       "    <tr style=\"text-align: right;\">\n",
       "      <th></th>\n",
       "      <th>Temperature (K)</th>\n",
       "      <th>Luminosity(L/Lo)</th>\n",
       "      <th>Radius(R/Ro)</th>\n",
       "      <th>Absolute magnitude(Mv)</th>\n",
       "      <th>Star type</th>\n",
       "      <th>Star color</th>\n",
       "      <th>Spectral Class</th>\n",
       "    </tr>\n",
       "  </thead>\n",
       "  <tbody>\n",
       "    <tr>\n",
       "      <th>0</th>\n",
       "      <td>NaN</td>\n",
       "      <td>NaN</td>\n",
       "      <td>NaN</td>\n",
       "      <td>NaN</td>\n",
       "      <td>NaN</td>\n",
       "      <td>NaN</td>\n",
       "      <td>NaN</td>\n",
       "    </tr>\n",
       "    <tr>\n",
       "      <th>1</th>\n",
       "      <td>3042</td>\n",
       "      <td>0.0005</td>\n",
       "      <td>0.1542</td>\n",
       "      <td>16.6</td>\n",
       "      <td>0.0</td>\n",
       "      <td>Red</td>\n",
       "      <td>M</td>\n",
       "    </tr>\n",
       "    <tr>\n",
       "      <th>2</th>\n",
       "      <td>2600</td>\n",
       "      <td>0.0003</td>\n",
       "      <td>0.102</td>\n",
       "      <td>18.7</td>\n",
       "      <td>0.0</td>\n",
       "      <td>Red</td>\n",
       "      <td>M</td>\n",
       "    </tr>\n",
       "    <tr>\n",
       "      <th>3</th>\n",
       "      <td>2800</td>\n",
       "      <td>0.0002</td>\n",
       "      <td></td>\n",
       "      <td>16.65</td>\n",
       "      <td>0.0</td>\n",
       "      <td>Red</td>\n",
       "      <td>M</td>\n",
       "    </tr>\n",
       "    <tr>\n",
       "      <th>4</th>\n",
       "      <td>1939</td>\n",
       "      <td>0.000138</td>\n",
       "      <td>0.103</td>\n",
       "      <td>20.06</td>\n",
       "      <td>0.0</td>\n",
       "      <td>Red</td>\n",
       "      <td>M</td>\n",
       "    </tr>\n",
       "    <tr>\n",
       "      <th>...</th>\n",
       "      <td>...</td>\n",
       "      <td>...</td>\n",
       "      <td>...</td>\n",
       "      <td>...</td>\n",
       "      <td>...</td>\n",
       "      <td>...</td>\n",
       "      <td>...</td>\n",
       "    </tr>\n",
       "    <tr>\n",
       "      <th>235</th>\n",
       "      <td>38940</td>\n",
       "      <td>374830</td>\n",
       "      <td>1356</td>\n",
       "      <td>-9.93</td>\n",
       "      <td>5.0</td>\n",
       "      <td>Blue</td>\n",
       "      <td>O</td>\n",
       "    </tr>\n",
       "    <tr>\n",
       "      <th>236</th>\n",
       "      <td>30839</td>\n",
       "      <td>834042</td>\n",
       "      <td>1194</td>\n",
       "      <td>-10.63</td>\n",
       "      <td>5.0</td>\n",
       "      <td>Blue</td>\n",
       "      <td>O</td>\n",
       "    </tr>\n",
       "    <tr>\n",
       "      <th>237</th>\n",
       "      <td>8829</td>\n",
       "      <td>537493</td>\n",
       "      <td>1423</td>\n",
       "      <td>-10.73</td>\n",
       "      <td>5.0</td>\n",
       "      <td>White</td>\n",
       "      <td>A</td>\n",
       "    </tr>\n",
       "    <tr>\n",
       "      <th>238</th>\n",
       "      <td>9235</td>\n",
       "      <td>404940</td>\n",
       "      <td>1112</td>\n",
       "      <td>-11.23</td>\n",
       "      <td>5.0</td>\n",
       "      <td>White</td>\n",
       "      <td>A</td>\n",
       "    </tr>\n",
       "    <tr>\n",
       "      <th>239</th>\n",
       "      <td>37882</td>\n",
       "      <td>294903</td>\n",
       "      <td>1783</td>\n",
       "      <td>-7.8</td>\n",
       "      <td>5.0</td>\n",
       "      <td>Blue</td>\n",
       "      <td>O</td>\n",
       "    </tr>\n",
       "  </tbody>\n",
       "</table>\n",
       "<p>240 rows × 7 columns</p>\n",
       "</div>"
      ],
      "text/plain": [
       "    Temperature (K) Luminosity(L/Lo) Radius(R/Ro) Absolute magnitude(Mv)  \\\n",
       "0               NaN              NaN          NaN                    NaN   \n",
       "1              3042           0.0005       0.1542                   16.6   \n",
       "2              2600           0.0003        0.102                   18.7   \n",
       "3              2800           0.0002                               16.65   \n",
       "4              1939         0.000138        0.103                  20.06   \n",
       "..              ...              ...          ...                    ...   \n",
       "235           38940           374830         1356                  -9.93   \n",
       "236           30839           834042         1194                 -10.63   \n",
       "237            8829           537493         1423                 -10.73   \n",
       "238            9235           404940         1112                 -11.23   \n",
       "239           37882           294903         1783                   -7.8   \n",
       "\n",
       "     Star type Star color Spectral Class  \n",
       "0          NaN        NaN            NaN  \n",
       "1          0.0        Red              M  \n",
       "2          0.0        Red              M  \n",
       "3          0.0        Red              M  \n",
       "4          0.0        Red              M  \n",
       "..         ...        ...            ...  \n",
       "235        5.0       Blue              O  \n",
       "236        5.0       Blue              O  \n",
       "237        5.0      White              A  \n",
       "238        5.0      White              A  \n",
       "239        5.0       Blue              O  \n",
       "\n",
       "[240 rows x 7 columns]"
      ]
     },
     "execution_count": 2,
     "metadata": {},
     "output_type": "execute_result"
    }
   ],
   "source": [
    "path ='/kaggle/input/astronomical-data/cleaned_star_data.csv'\n",
    "df = pd.read_csv(path)\n",
    "df = pd.DataFrame(df)\n",
    "df"
   ]
  },
  {
   "cell_type": "markdown",
   "id": "c336011d",
   "metadata": {
    "papermill": {
     "duration": 0.006682,
     "end_time": "2024-10-28T05:19:41.529016",
     "exception": false,
     "start_time": "2024-10-28T05:19:41.522334",
     "status": "completed"
    },
    "tags": []
   },
   "source": [
    "### Data exploration"
   ]
  },
  {
   "cell_type": "code",
   "execution_count": 3,
   "id": "f3b87bde",
   "metadata": {
    "execution": {
     "iopub.execute_input": "2024-10-28T05:19:41.544449Z",
     "iopub.status.busy": "2024-10-28T05:19:41.544000Z",
     "iopub.status.idle": "2024-10-28T05:19:41.575636Z",
     "shell.execute_reply": "2024-10-28T05:19:41.574628Z"
    },
    "papermill": {
     "duration": 0.042526,
     "end_time": "2024-10-28T05:19:41.578411",
     "exception": false,
     "start_time": "2024-10-28T05:19:41.535885",
     "status": "completed"
    },
    "tags": []
   },
   "outputs": [
    {
     "name": "stdout",
     "output_type": "stream",
     "text": [
      "There are 240 rows by 7 columns.\n",
      "There are no duplicated rows in the dataset.\n",
      "The number of empty cells are listed below per feature.\n",
      "Temperature (K)           3\n",
      "Luminosity(L/Lo)          7\n",
      "Radius(R/Ro)              8\n",
      "Absolute magnitude(Mv)    6\n",
      "Star type                 1\n",
      "Star color                7\n",
      "Spectral Class            3\n",
      "dtype: int64\n"
     ]
    }
   ],
   "source": [
    "#converting columns \"Temperature (K)\", \"Luminosity(L/Lo)\", \"Radius(R/Ro)\", \"Absolute magnitude(Mv)\", \"Star type\" into numeric format\n",
    "df[[\"Temperature (K)\", \"Luminosity(L/Lo)\", \"Radius(R/Ro)\", \"Absolute magnitude(Mv)\", \"Star type\"]] = \\\n",
    "df[[\"Temperature (K)\", \"Luminosity(L/Lo)\", \"Radius(R/Ro)\", \"Absolute magnitude(Mv)\", \"Star type\"]].apply(pd.to_numeric, errors='coerce')\n",
    "df[\"Star color\"] = pd.Categorical(df[\"Star color\"])\n",
    "df[\"Spectral Class\"] = pd.Categorical(df[\"Spectral Class\"])\n",
    "\n",
    "#replacing empty cells for columns \"Star color\" and \"Spectral Class\" with NaN\n",
    "df[\"Star color\"] = df[\"Star color\"].replace(\"\\s\", np.nan, regex=True)\n",
    "df[\"Spectral Class\"] = df[\"Spectral Class\"].replace(\"\\s\", np.nan, regex=True)\n",
    "\n",
    "#inspecting the dimension of the dataset\n",
    "shape = df.shape\n",
    "print(f\"There are {shape[0]} rows by {shape[1]} columns.\")\n",
    "\n",
    "#checking for duplicated rows in the dataset\n",
    "dupes = df.duplicated().sum()\n",
    "if dupes == 0:\n",
    "    print(\"There are no duplicated rows in the dataset.\")\n",
    "else:\n",
    "    print(f\"There are {dupes} duplicated rows in the dataset\")\n",
    "\n",
    "print(\"The number of empty cells are listed below per feature.\")\n",
    "\n",
    "#checking the null values for each column\n",
    "nulls = df.isnull().sum()\n",
    "print(nulls)\n"
   ]
  },
  {
   "cell_type": "markdown",
   "id": "00973572",
   "metadata": {
    "papermill": {
     "duration": 0.006985,
     "end_time": "2024-10-28T05:19:41.593279",
     "exception": false,
     "start_time": "2024-10-28T05:19:41.586294",
     "status": "completed"
    },
    "tags": []
   },
   "source": [
    "### Data preprocessing"
   ]
  },
  {
   "cell_type": "markdown",
   "id": "4fe6df54",
   "metadata": {
    "papermill": {
     "duration": 0.006786,
     "end_time": "2024-10-28T05:19:41.607184",
     "exception": false,
     "start_time": "2024-10-28T05:19:41.600398",
     "status": "completed"
    },
    "tags": []
   },
   "source": [
    "#### Predictor variables"
   ]
  },
  {
   "cell_type": "code",
   "execution_count": 4,
   "id": "bf90885a",
   "metadata": {
    "execution": {
     "iopub.execute_input": "2024-10-28T05:19:41.623760Z",
     "iopub.status.busy": "2024-10-28T05:19:41.622694Z",
     "iopub.status.idle": "2024-10-28T05:19:41.631283Z",
     "shell.execute_reply": "2024-10-28T05:19:41.630284Z"
    },
    "papermill": {
     "duration": 0.018954,
     "end_time": "2024-10-28T05:19:41.633318",
     "exception": false,
     "start_time": "2024-10-28T05:19:41.614364",
     "status": "completed"
    },
    "tags": []
   },
   "outputs": [],
   "source": [
    "mean_temp = df[\"Temperature (K)\"].mean() #gets the mean from the temperature values\n",
    "df[\"Temperature (K)\"] = df[\"Temperature (K)\"].fillna(mean_temp) #filling the empty temperature cells with the mean temperature\n",
    "\n",
    "mean_lum = df[\"Luminosity(L/Lo)\"].mean() #gets the mean from the luminosity values\n",
    "df[\"Luminosity(L/Lo)\"] = df[\"Luminosity(L/Lo)\"].fillna(mean_lum) #filling the empty luminosity cells with the mean luminosity\n",
    "\n",
    "mean_mv = df[\"Absolute magnitude(Mv)\"].mean() #gets the mean from the absolute magnitude values\n",
    "df[\"Absolute magnitude(Mv)\"] = df[\"Absolute magnitude(Mv)\"].fillna(mean_mv) #filling the empty absolute magnitude cells with the mean absolute magnitude\n",
    "\n",
    "mean_rad = df[\"Radius(R/Ro)\"].mean() #gets the mean from the Radius values\n",
    "df[\"Radius(R/Ro)\"] = df[\"Radius(R/Ro)\"].fillna(mean_rad) #filling the empty Radius cells with the mean Radius"
   ]
  },
  {
   "cell_type": "markdown",
   "id": "5a33d0b9",
   "metadata": {
    "papermill": {
     "duration": 0.00678,
     "end_time": "2024-10-28T05:19:41.647102",
     "exception": false,
     "start_time": "2024-10-28T05:19:41.640322",
     "status": "completed"
    },
    "tags": []
   },
   "source": [
    "#### Spectral class"
   ]
  },
  {
   "cell_type": "code",
   "execution_count": 5,
   "id": "0a944461",
   "metadata": {
    "execution": {
     "iopub.execute_input": "2024-10-28T05:19:41.663086Z",
     "iopub.status.busy": "2024-10-28T05:19:41.662237Z",
     "iopub.status.idle": "2024-10-28T05:19:41.669358Z",
     "shell.execute_reply": "2024-10-28T05:19:41.668319Z"
    },
    "papermill": {
     "duration": 0.017563,
     "end_time": "2024-10-28T05:19:41.671683",
     "exception": false,
     "start_time": "2024-10-28T05:19:41.654120",
     "status": "completed"
    },
    "tags": []
   },
   "outputs": [],
   "source": [
    "df = df.dropna(subset=[\"Spectral Class\"]) #drops the the rows with empty values in the spectral class column"
   ]
  },
  {
   "cell_type": "code",
   "execution_count": 6,
   "id": "64aecde3",
   "metadata": {
    "execution": {
     "iopub.execute_input": "2024-10-28T05:19:41.687856Z",
     "iopub.status.busy": "2024-10-28T05:19:41.687430Z",
     "iopub.status.idle": "2024-10-28T05:19:41.710289Z",
     "shell.execute_reply": "2024-10-28T05:19:41.709217Z"
    },
    "papermill": {
     "duration": 0.034426,
     "end_time": "2024-10-28T05:19:41.713345",
     "exception": false,
     "start_time": "2024-10-28T05:19:41.678919",
     "status": "completed"
    },
    "tags": []
   },
   "outputs": [
    {
     "name": "stderr",
     "output_type": "stream",
     "text": [
      "/tmp/ipykernel_18/4271923016.py:1: FutureWarning: The behavior of Series.replace (and DataFrame.replace) with CategoricalDtype is deprecated. In a future version, replace will only be used for cases that preserve the categories. To change the categories, use ser.cat.rename_categories instead.\n",
      "  df[\"Spectral Class\"] = df[\"Spectral Class\"].replace({\n",
      "/tmp/ipykernel_18/4271923016.py:1: SettingWithCopyWarning: \n",
      "A value is trying to be set on a copy of a slice from a DataFrame.\n",
      "Try using .loc[row_indexer,col_indexer] = value instead\n",
      "\n",
      "See the caveats in the documentation: https://pandas.pydata.org/pandas-docs/stable/user_guide/indexing.html#returning-a-view-versus-a-copy\n",
      "  df[\"Spectral Class\"] = df[\"Spectral Class\"].replace({\n",
      "/tmp/ipykernel_18/4271923016.py:10: SettingWithCopyWarning: \n",
      "A value is trying to be set on a copy of a slice from a DataFrame.\n",
      "Try using .loc[row_indexer,col_indexer] = value instead\n",
      "\n",
      "See the caveats in the documentation: https://pandas.pydata.org/pandas-docs/stable/user_guide/indexing.html#returning-a-view-versus-a-copy\n",
      "  df[\"Spectral Class\"] = pd.to_numeric(df[\"Spectral Class\"])\n"
     ]
    },
    {
     "data": {
      "text/html": [
       "<div>\n",
       "<style scoped>\n",
       "    .dataframe tbody tr th:only-of-type {\n",
       "        vertical-align: middle;\n",
       "    }\n",
       "\n",
       "    .dataframe tbody tr th {\n",
       "        vertical-align: top;\n",
       "    }\n",
       "\n",
       "    .dataframe thead th {\n",
       "        text-align: right;\n",
       "    }\n",
       "</style>\n",
       "<table border=\"1\" class=\"dataframe\">\n",
       "  <thead>\n",
       "    <tr style=\"text-align: right;\">\n",
       "      <th></th>\n",
       "      <th>Temperature (K)</th>\n",
       "      <th>Luminosity(L/Lo)</th>\n",
       "      <th>Radius(R/Ro)</th>\n",
       "      <th>Absolute magnitude(Mv)</th>\n",
       "      <th>Star type</th>\n",
       "      <th>Star color</th>\n",
       "      <th>Spectral Class</th>\n",
       "    </tr>\n",
       "  </thead>\n",
       "  <tbody>\n",
       "    <tr>\n",
       "      <th>1</th>\n",
       "      <td>3042.0</td>\n",
       "      <td>0.000500</td>\n",
       "      <td>0.154200</td>\n",
       "      <td>16.60</td>\n",
       "      <td>0.0</td>\n",
       "      <td>Red</td>\n",
       "      <td>0</td>\n",
       "    </tr>\n",
       "    <tr>\n",
       "      <th>2</th>\n",
       "      <td>2600.0</td>\n",
       "      <td>0.000300</td>\n",
       "      <td>0.102000</td>\n",
       "      <td>18.70</td>\n",
       "      <td>0.0</td>\n",
       "      <td>Red</td>\n",
       "      <td>0</td>\n",
       "    </tr>\n",
       "    <tr>\n",
       "      <th>3</th>\n",
       "      <td>2800.0</td>\n",
       "      <td>0.000200</td>\n",
       "      <td>238.393907</td>\n",
       "      <td>16.65</td>\n",
       "      <td>0.0</td>\n",
       "      <td>Red</td>\n",
       "      <td>0</td>\n",
       "    </tr>\n",
       "    <tr>\n",
       "      <th>4</th>\n",
       "      <td>1939.0</td>\n",
       "      <td>0.000138</td>\n",
       "      <td>0.103000</td>\n",
       "      <td>20.06</td>\n",
       "      <td>0.0</td>\n",
       "      <td>Red</td>\n",
       "      <td>0</td>\n",
       "    </tr>\n",
       "    <tr>\n",
       "      <th>5</th>\n",
       "      <td>2840.0</td>\n",
       "      <td>107266.981895</td>\n",
       "      <td>0.110000</td>\n",
       "      <td>16.98</td>\n",
       "      <td>0.0</td>\n",
       "      <td>Red</td>\n",
       "      <td>0</td>\n",
       "    </tr>\n",
       "    <tr>\n",
       "      <th>...</th>\n",
       "      <td>...</td>\n",
       "      <td>...</td>\n",
       "      <td>...</td>\n",
       "      <td>...</td>\n",
       "      <td>...</td>\n",
       "      <td>...</td>\n",
       "      <td>...</td>\n",
       "    </tr>\n",
       "    <tr>\n",
       "      <th>235</th>\n",
       "      <td>38940.0</td>\n",
       "      <td>374830.000000</td>\n",
       "      <td>1356.000000</td>\n",
       "      <td>-9.93</td>\n",
       "      <td>5.0</td>\n",
       "      <td>Blue</td>\n",
       "      <td>6</td>\n",
       "    </tr>\n",
       "    <tr>\n",
       "      <th>236</th>\n",
       "      <td>30839.0</td>\n",
       "      <td>834042.000000</td>\n",
       "      <td>1194.000000</td>\n",
       "      <td>-10.63</td>\n",
       "      <td>5.0</td>\n",
       "      <td>Blue</td>\n",
       "      <td>6</td>\n",
       "    </tr>\n",
       "    <tr>\n",
       "      <th>237</th>\n",
       "      <td>8829.0</td>\n",
       "      <td>537493.000000</td>\n",
       "      <td>1423.000000</td>\n",
       "      <td>-10.73</td>\n",
       "      <td>5.0</td>\n",
       "      <td>White</td>\n",
       "      <td>4</td>\n",
       "    </tr>\n",
       "    <tr>\n",
       "      <th>238</th>\n",
       "      <td>9235.0</td>\n",
       "      <td>404940.000000</td>\n",
       "      <td>1112.000000</td>\n",
       "      <td>-11.23</td>\n",
       "      <td>5.0</td>\n",
       "      <td>White</td>\n",
       "      <td>4</td>\n",
       "    </tr>\n",
       "    <tr>\n",
       "      <th>239</th>\n",
       "      <td>37882.0</td>\n",
       "      <td>294903.000000</td>\n",
       "      <td>1783.000000</td>\n",
       "      <td>-7.80</td>\n",
       "      <td>5.0</td>\n",
       "      <td>Blue</td>\n",
       "      <td>6</td>\n",
       "    </tr>\n",
       "  </tbody>\n",
       "</table>\n",
       "<p>237 rows × 7 columns</p>\n",
       "</div>"
      ],
      "text/plain": [
       "     Temperature (K)  Luminosity(L/Lo)  Radius(R/Ro)  Absolute magnitude(Mv)  \\\n",
       "1             3042.0          0.000500      0.154200                   16.60   \n",
       "2             2600.0          0.000300      0.102000                   18.70   \n",
       "3             2800.0          0.000200    238.393907                   16.65   \n",
       "4             1939.0          0.000138      0.103000                   20.06   \n",
       "5             2840.0     107266.981895      0.110000                   16.98   \n",
       "..               ...               ...           ...                     ...   \n",
       "235          38940.0     374830.000000   1356.000000                   -9.93   \n",
       "236          30839.0     834042.000000   1194.000000                  -10.63   \n",
       "237           8829.0     537493.000000   1423.000000                  -10.73   \n",
       "238           9235.0     404940.000000   1112.000000                  -11.23   \n",
       "239          37882.0     294903.000000   1783.000000                   -7.80   \n",
       "\n",
       "     Star type Star color  Spectral Class  \n",
       "1          0.0        Red               0  \n",
       "2          0.0        Red               0  \n",
       "3          0.0        Red               0  \n",
       "4          0.0        Red               0  \n",
       "5          0.0        Red               0  \n",
       "..         ...        ...             ...  \n",
       "235        5.0       Blue               6  \n",
       "236        5.0       Blue               6  \n",
       "237        5.0      White               4  \n",
       "238        5.0      White               4  \n",
       "239        5.0       Blue               6  \n",
       "\n",
       "[237 rows x 7 columns]"
      ]
     },
     "execution_count": 6,
     "metadata": {},
     "output_type": "execute_result"
    }
   ],
   "source": [
    "df[\"Spectral Class\"] = df[\"Spectral Class\"].replace({\n",
    "    \"M\": 0,\n",
    "    \"K\": 1,\n",
    "    \"G\": 2,\n",
    "    \"F\": 3,\n",
    "    \"A\": 4,\n",
    "    \"B\": 5,\n",
    "    \"O\": 6,\n",
    "})\n",
    "df[\"Spectral Class\"] = pd.to_numeric(df[\"Spectral Class\"])\n",
    "df"
   ]
  },
  {
   "cell_type": "markdown",
   "id": "e53425aa",
   "metadata": {
    "papermill": {
     "duration": 0.007321,
     "end_time": "2024-10-28T05:19:41.728381",
     "exception": false,
     "start_time": "2024-10-28T05:19:41.721060",
     "status": "completed"
    },
    "tags": []
   },
   "source": [
    "#### Star color"
   ]
  },
  {
   "cell_type": "code",
   "execution_count": 7,
   "id": "755bcb5f",
   "metadata": {
    "execution": {
     "iopub.execute_input": "2024-10-28T05:19:41.744936Z",
     "iopub.status.busy": "2024-10-28T05:19:41.744526Z",
     "iopub.status.idle": "2024-10-28T05:19:41.783771Z",
     "shell.execute_reply": "2024-10-28T05:19:41.782231Z"
    },
    "papermill": {
     "duration": 0.050635,
     "end_time": "2024-10-28T05:19:41.786369",
     "exception": false,
     "start_time": "2024-10-28T05:19:41.735734",
     "status": "completed"
    },
    "tags": []
   },
   "outputs": [
    {
     "name": "stderr",
     "output_type": "stream",
     "text": [
      "/tmp/ipykernel_18/1367713166.py:1: SettingWithCopyWarning: \n",
      "A value is trying to be set on a copy of a slice from a DataFrame.\n",
      "Try using .loc[row_indexer,col_indexer] = value instead\n",
      "\n",
      "See the caveats in the documentation: https://pandas.pydata.org/pandas-docs/stable/user_guide/indexing.html#returning-a-view-versus-a-copy\n",
      "  df[\"Star color\"] = df[\"Star color\"].replace(\"\\s\", np.nan, regex=True) #replacing empty values (white spaces) in cells with NaN\n",
      "/tmp/ipykernel_18/1367713166.py:8: SettingWithCopyWarning: \n",
      "A value is trying to be set on a copy of a slice from a DataFrame.\n",
      "Try using .loc[row_indexer,col_indexer] = value instead\n",
      "\n",
      "See the caveats in the documentation: https://pandas.pydata.org/pandas-docs/stable/user_guide/indexing.html#returning-a-view-versus-a-copy\n",
      "  df_not_missing[\"Star color\"] = pd.Categorical(df_not_missing[\"Star color\"]).codes\n",
      "/tmp/ipykernel_18/1367713166.py:14: SettingWithCopyWarning: \n",
      "A value is trying to be set on a copy of a slice from a DataFrame.\n",
      "Try using .loc[row_indexer,col_indexer] = value instead\n",
      "\n",
      "See the caveats in the documentation: https://pandas.pydata.org/pandas-docs/stable/user_guide/indexing.html#returning-a-view-versus-a-copy\n",
      "  df_missing[\"Star color\"] = knn.predict(df_missing[features])\n",
      "/tmp/ipykernel_18/1367713166.py:16: SettingWithCopyWarning: \n",
      "A value is trying to be set on a copy of a slice from a DataFrame.\n",
      "Try using .loc[row_indexer,col_indexer] = value instead\n",
      "\n",
      "See the caveats in the documentation: https://pandas.pydata.org/pandas-docs/stable/user_guide/indexing.html#returning-a-view-versus-a-copy\n",
      "  df['Star color'] = pd.Categorical(df['Star color'])\n",
      "/tmp/ipykernel_18/1367713166.py:17: SettingWithCopyWarning: \n",
      "A value is trying to be set on a copy of a slice from a DataFrame.\n",
      "Try using .loc[row_indexer,col_indexer] = value instead\n",
      "\n",
      "See the caveats in the documentation: https://pandas.pydata.org/pandas-docs/stable/user_guide/indexing.html#returning-a-view-versus-a-copy\n",
      "  df['Star color'] = pd.Categorical(df['Star color'], categories=pd.Categorical(df_not_missing['Star color']).categories)\n"
     ]
    },
    {
     "data": {
      "text/html": [
       "<div>\n",
       "<style scoped>\n",
       "    .dataframe tbody tr th:only-of-type {\n",
       "        vertical-align: middle;\n",
       "    }\n",
       "\n",
       "    .dataframe tbody tr th {\n",
       "        vertical-align: top;\n",
       "    }\n",
       "\n",
       "    .dataframe thead th {\n",
       "        text-align: right;\n",
       "    }\n",
       "</style>\n",
       "<table border=\"1\" class=\"dataframe\">\n",
       "  <thead>\n",
       "    <tr style=\"text-align: right;\">\n",
       "      <th></th>\n",
       "      <th>Temperature (K)</th>\n",
       "      <th>Luminosity(L/Lo)</th>\n",
       "      <th>Radius(R/Ro)</th>\n",
       "      <th>Absolute magnitude(Mv)</th>\n",
       "      <th>Star type</th>\n",
       "      <th>Star color</th>\n",
       "      <th>Spectral Class</th>\n",
       "    </tr>\n",
       "  </thead>\n",
       "  <tbody>\n",
       "    <tr>\n",
       "      <th>1</th>\n",
       "      <td>3042.0</td>\n",
       "      <td>0.000500</td>\n",
       "      <td>0.154200</td>\n",
       "      <td>16.60</td>\n",
       "      <td>0.0</td>\n",
       "      <td>3</td>\n",
       "      <td>0</td>\n",
       "    </tr>\n",
       "    <tr>\n",
       "      <th>2</th>\n",
       "      <td>2600.0</td>\n",
       "      <td>0.000300</td>\n",
       "      <td>0.102000</td>\n",
       "      <td>18.70</td>\n",
       "      <td>0.0</td>\n",
       "      <td>3</td>\n",
       "      <td>0</td>\n",
       "    </tr>\n",
       "    <tr>\n",
       "      <th>3</th>\n",
       "      <td>2800.0</td>\n",
       "      <td>0.000200</td>\n",
       "      <td>238.393907</td>\n",
       "      <td>16.65</td>\n",
       "      <td>0.0</td>\n",
       "      <td>3</td>\n",
       "      <td>0</td>\n",
       "    </tr>\n",
       "    <tr>\n",
       "      <th>4</th>\n",
       "      <td>1939.0</td>\n",
       "      <td>0.000138</td>\n",
       "      <td>0.103000</td>\n",
       "      <td>20.06</td>\n",
       "      <td>0.0</td>\n",
       "      <td>3</td>\n",
       "      <td>0</td>\n",
       "    </tr>\n",
       "    <tr>\n",
       "      <th>5</th>\n",
       "      <td>2840.0</td>\n",
       "      <td>107266.981895</td>\n",
       "      <td>0.110000</td>\n",
       "      <td>16.98</td>\n",
       "      <td>0.0</td>\n",
       "      <td>3</td>\n",
       "      <td>0</td>\n",
       "    </tr>\n",
       "    <tr>\n",
       "      <th>...</th>\n",
       "      <td>...</td>\n",
       "      <td>...</td>\n",
       "      <td>...</td>\n",
       "      <td>...</td>\n",
       "      <td>...</td>\n",
       "      <td>...</td>\n",
       "      <td>...</td>\n",
       "    </tr>\n",
       "    <tr>\n",
       "      <th>235</th>\n",
       "      <td>38940.0</td>\n",
       "      <td>374830.000000</td>\n",
       "      <td>1356.000000</td>\n",
       "      <td>-9.93</td>\n",
       "      <td>5.0</td>\n",
       "      <td>1</td>\n",
       "      <td>6</td>\n",
       "    </tr>\n",
       "    <tr>\n",
       "      <th>236</th>\n",
       "      <td>30839.0</td>\n",
       "      <td>834042.000000</td>\n",
       "      <td>1194.000000</td>\n",
       "      <td>-10.63</td>\n",
       "      <td>5.0</td>\n",
       "      <td>1</td>\n",
       "      <td>6</td>\n",
       "    </tr>\n",
       "    <tr>\n",
       "      <th>237</th>\n",
       "      <td>8829.0</td>\n",
       "      <td>537493.000000</td>\n",
       "      <td>1423.000000</td>\n",
       "      <td>-10.73</td>\n",
       "      <td>5.0</td>\n",
       "      <td>4</td>\n",
       "      <td>4</td>\n",
       "    </tr>\n",
       "    <tr>\n",
       "      <th>238</th>\n",
       "      <td>9235.0</td>\n",
       "      <td>404940.000000</td>\n",
       "      <td>1112.000000</td>\n",
       "      <td>-11.23</td>\n",
       "      <td>5.0</td>\n",
       "      <td>4</td>\n",
       "      <td>4</td>\n",
       "    </tr>\n",
       "    <tr>\n",
       "      <th>239</th>\n",
       "      <td>37882.0</td>\n",
       "      <td>294903.000000</td>\n",
       "      <td>1783.000000</td>\n",
       "      <td>-7.80</td>\n",
       "      <td>5.0</td>\n",
       "      <td>1</td>\n",
       "      <td>6</td>\n",
       "    </tr>\n",
       "  </tbody>\n",
       "</table>\n",
       "<p>237 rows × 7 columns</p>\n",
       "</div>"
      ],
      "text/plain": [
       "     Temperature (K)  Luminosity(L/Lo)  Radius(R/Ro)  Absolute magnitude(Mv)  \\\n",
       "1             3042.0          0.000500      0.154200                   16.60   \n",
       "2             2600.0          0.000300      0.102000                   18.70   \n",
       "3             2800.0          0.000200    238.393907                   16.65   \n",
       "4             1939.0          0.000138      0.103000                   20.06   \n",
       "5             2840.0     107266.981895      0.110000                   16.98   \n",
       "..               ...               ...           ...                     ...   \n",
       "235          38940.0     374830.000000   1356.000000                   -9.93   \n",
       "236          30839.0     834042.000000   1194.000000                  -10.63   \n",
       "237           8829.0     537493.000000   1423.000000                  -10.73   \n",
       "238           9235.0     404940.000000   1112.000000                  -11.23   \n",
       "239          37882.0     294903.000000   1783.000000                   -7.80   \n",
       "\n",
       "     Star type  Star color  Spectral Class  \n",
       "1          0.0           3               0  \n",
       "2          0.0           3               0  \n",
       "3          0.0           3               0  \n",
       "4          0.0           3               0  \n",
       "5          0.0           3               0  \n",
       "..         ...         ...             ...  \n",
       "235        5.0           1               6  \n",
       "236        5.0           1               6  \n",
       "237        5.0           4               4  \n",
       "238        5.0           4               4  \n",
       "239        5.0           1               6  \n",
       "\n",
       "[237 rows x 7 columns]"
      ]
     },
     "execution_count": 7,
     "metadata": {},
     "output_type": "execute_result"
    }
   ],
   "source": [
    "df[\"Star color\"] = df[\"Star color\"].replace(\"\\s\", np.nan, regex=True) #replacing empty values (white spaces) in cells with NaN\n",
    "\n",
    "features = ['Temperature (K)', 'Luminosity(L/Lo)', 'Radius(R/Ro)', 'Absolute magnitude(Mv)'] #assigning features for imputing the star color missing values\n",
    "\n",
    "df_missing = df[df[\"Star color\"].isnull()] #creates a dataset for the rows with missing star color values\n",
    "df_not_missing = df[df[\"Star color\"].notnull()] #creates a dataset for the rows with present star color values\n",
    "\n",
    "df_not_missing[\"Star color\"] = pd.Categorical(df_not_missing[\"Star color\"]).codes \n",
    "\n",
    "#knn imputer for predicting the star color values \n",
    "knn = KNeighborsClassifier(n_neighbors=1)\n",
    "knn.fit(df_not_missing[features], df_not_missing[\"Star color\"])\n",
    "\n",
    "df_missing[\"Star color\"] = knn.predict(df_missing[features])\n",
    "\n",
    "df['Star color'] = pd.Categorical(df['Star color'])\n",
    "df['Star color'] = pd.Categorical(df['Star color'], categories=pd.Categorical(df_not_missing['Star color']).categories)\n",
    "\n",
    "dfn = pd.concat([df_not_missing, df_missing]).sort_index()\n",
    "\n",
    "df = pd.DataFrame(dfn)\n",
    "df"
   ]
  },
  {
   "cell_type": "markdown",
   "id": "ab3a901e",
   "metadata": {
    "papermill": {
     "duration": 0.007728,
     "end_time": "2024-10-28T05:19:41.802238",
     "exception": false,
     "start_time": "2024-10-28T05:19:41.794510",
     "status": "completed"
    },
    "tags": []
   },
   "source": [
    "### Checking assumptions"
   ]
  },
  {
   "cell_type": "code",
   "execution_count": 8,
   "id": "5c8f71e1",
   "metadata": {
    "execution": {
     "iopub.execute_input": "2024-10-28T05:19:41.819832Z",
     "iopub.status.busy": "2024-10-28T05:19:41.819412Z",
     "iopub.status.idle": "2024-10-28T05:19:42.381666Z",
     "shell.execute_reply": "2024-10-28T05:19:42.380590Z"
    },
    "papermill": {
     "duration": 0.574124,
     "end_time": "2024-10-28T05:19:42.384104",
     "exception": false,
     "start_time": "2024-10-28T05:19:41.809980",
     "status": "completed"
    },
    "tags": []
   },
   "outputs": [
    {
     "data": {
      "image/png": "[encoded data removed]",
      "text/plain": [
       "<Figure size 1500x400 with 4 Axes>"
      ]
     },
     "metadata": {},
     "output_type": "display_data"
    }
   ],
   "source": [
    "#box plot for checking outliers\n",
    "plt.figure(figsize=(15,4))\n",
    "\n",
    "plt.subplot(1,4,1)\n",
    "sns.boxplot(x=df[\"Temperature (K)\"])\n",
    "\n",
    "plt.subplot(1,4,2)\n",
    "sns.boxplot(x=df[\"Luminosity(L/Lo)\"])\n",
    "\n",
    "plt.subplot(1,4,3)\n",
    "sns.boxplot(x=df[\"Radius(R/Ro)\"])\n",
    "\n",
    "plt.subplot(1,4,4)\n",
    "sns.boxplot(x=df[\"Absolute magnitude(Mv)\"])\n",
    "\n",
    "plt.suptitle(\"Outliers per Predictor Variable\")\n",
    "plt.tight_layout()\n",
    "plt.show()"
   ]
  },
  {
   "cell_type": "code",
   "execution_count": 9,
   "id": "58bdda2a",
   "metadata": {
    "execution": {
     "iopub.execute_input": "2024-10-28T05:19:42.403671Z",
     "iopub.status.busy": "2024-10-28T05:19:42.402616Z",
     "iopub.status.idle": "2024-10-28T05:19:42.644981Z",
     "shell.execute_reply": "2024-10-28T05:19:42.643874Z"
    },
    "papermill": {
     "duration": 0.254177,
     "end_time": "2024-10-28T05:19:42.647217",
     "exception": false,
     "start_time": "2024-10-28T05:19:42.393040",
     "status": "completed"
    },
    "tags": []
   },
   "outputs": [
    {
     "name": "stdout",
     "output_type": "stream",
     "text": [
      "Spectral Class\n",
      "0    109\n",
      "5     46\n",
      "6     39\n",
      "4     19\n",
      "3     17\n",
      "1      6\n",
      "2      1\n",
      "Name: count, dtype: int64\n"
     ]
    },
    {
     "data": {
      "image/png": "[encoded data removed]",
      "text/plain": [
       "<Figure size 500x500 with 1 Axes>"
      ]
     },
     "metadata": {},
     "output_type": "display_data"
    }
   ],
   "source": [
    "#checking class imbalance\n",
    "class_distribution = df[\"Spectral Class\"].value_counts()\n",
    "print(class_distribution)\n",
    "\n",
    "plt.figure(figsize=(5,5))\n",
    "sns.countplot(x=df[\"Spectral Class\"], data=df)\n",
    "plt.title(\"Spectral Class Distribution\")\n",
    "plt.show()"
   ]
  },
  {
   "cell_type": "code",
   "execution_count": 10,
   "id": "38ca90e2",
   "metadata": {
    "execution": {
     "iopub.execute_input": "2024-10-28T05:19:42.666766Z",
     "iopub.status.busy": "2024-10-28T05:19:42.665853Z",
     "iopub.status.idle": "2024-10-28T05:19:42.674011Z",
     "shell.execute_reply": "2024-10-28T05:19:42.672975Z"
    },
    "papermill": {
     "duration": 0.02015,
     "end_time": "2024-10-28T05:19:42.676257",
     "exception": false,
     "start_time": "2024-10-28T05:19:42.656107",
     "status": "completed"
    },
    "tags": []
   },
   "outputs": [],
   "source": [
    "#outlier transformation for temperature, luminosity, and radius\n",
    "#absolute magnitude is not included since the feature doesn't have any outliers\n",
    "df['temperature_log'] = np.log1p(df[\"Temperature (K)\"])\n",
    "df['luminosity_log'] = np.log1p(df[\"Luminosity(L/Lo)\"])\n",
    "df['radius_log'] = np.log1p(df[\"Radius(R/Ro)\"])"
   ]
  },
  {
   "cell_type": "code",
   "execution_count": 11,
   "id": "ab87c79a",
   "metadata": {
    "execution": {
     "iopub.execute_input": "2024-10-28T05:19:42.696230Z",
     "iopub.status.busy": "2024-10-28T05:19:42.695394Z",
     "iopub.status.idle": "2024-10-28T05:19:43.282130Z",
     "shell.execute_reply": "2024-10-28T05:19:43.281005Z"
    },
    "papermill": {
     "duration": 0.5993,
     "end_time": "2024-10-28T05:19:43.284343",
     "exception": false,
     "start_time": "2024-10-28T05:19:42.685043",
     "status": "completed"
    },
    "tags": []
   },
   "outputs": [
    {
     "data": {
      "image/png": "[encoded data removed]",
      "text/plain": [
       "<Figure size 1500x400 with 4 Axes>"
      ]
     },
     "metadata": {},
     "output_type": "display_data"
    }
   ],
   "source": [
    "plt.figure(figsize=(15, 4))\n",
    "\n",
    "plt.subplot(1,4,1)\n",
    "sns.boxplot(x=df[\"temperature_log\"])\n",
    "\n",
    "plt.subplot(1,4,2)\n",
    "sns.boxplot(x=df[\"luminosity_log\"])\n",
    "\n",
    "plt.subplot(1,4,3)\n",
    "sns.boxplot(x=df[\"radius_log\"])\n",
    "\n",
    "plt.subplot(1,4,4)\n",
    "sns.boxplot(x=df[\"Absolute magnitude(Mv)\"])\n",
    "\n",
    "plt.suptitle(\"Predictors After Log Transformation\")\n",
    "plt.tight_layout()\n",
    "plt.show()"
   ]
  },
  {
   "cell_type": "markdown",
   "id": "77fdbcb7",
   "metadata": {
    "papermill": {
     "duration": 0.009678,
     "end_time": "2024-10-28T05:19:43.303341",
     "exception": false,
     "start_time": "2024-10-28T05:19:43.293663",
     "status": "completed"
    },
    "tags": []
   },
   "source": [
    "### Data modeling"
   ]
  },
  {
   "cell_type": "code",
   "execution_count": 12,
   "id": "e64bf87d",
   "metadata": {
    "execution": {
     "iopub.execute_input": "2024-10-28T05:19:43.325080Z",
     "iopub.status.busy": "2024-10-28T05:19:43.324141Z",
     "iopub.status.idle": "2024-10-28T05:19:43.333910Z",
     "shell.execute_reply": "2024-10-28T05:19:43.332883Z"
    },
    "papermill": {
     "duration": 0.022481,
     "end_time": "2024-10-28T05:19:43.336027",
     "exception": false,
     "start_time": "2024-10-28T05:19:43.313546",
     "status": "completed"
    },
    "tags": []
   },
   "outputs": [],
   "source": [
    "#define x and y features\n",
    "x_features = df[['temperature_log', 'luminosity_log', 'radius_log', 'Absolute magnitude(Mv)']]\n",
    "y_features = df[\"Spectral Class\"]\n",
    "\n",
    "#split the data into training and test sets\n",
    "x_train, x_test, y_train, y_test = train_test_split(x_features, y_features, test_size=0.2, random_state=42)"
   ]
  },
  {
   "cell_type": "code",
   "execution_count": 13,
   "id": "708f204d",
   "metadata": {
    "execution": {
     "iopub.execute_input": "2024-10-28T05:19:43.356650Z",
     "iopub.status.busy": "2024-10-28T05:19:43.355675Z",
     "iopub.status.idle": "2024-10-28T05:19:43.366483Z",
     "shell.execute_reply": "2024-10-28T05:19:43.365590Z"
    },
    "papermill": {
     "duration": 0.023482,
     "end_time": "2024-10-28T05:19:43.368768",
     "exception": false,
     "start_time": "2024-10-28T05:19:43.345286",
     "status": "completed"
    },
    "tags": []
   },
   "outputs": [],
   "source": [
    "model = KNeighborsClassifier(n_neighbors=5, weights='distance') #initialize KNN classifier as model with weighted distances\n",
    "model.fit(x_train, y_train) #fit training sets into the model\n",
    "\n",
    "y_pred = model.predict(x_test) #predict y_pred by using the model on x_test values "
   ]
  },
  {
   "cell_type": "markdown",
   "id": "f839f303",
   "metadata": {
    "papermill": {
     "duration": 0.009098,
     "end_time": "2024-10-28T05:19:43.387568",
     "exception": false,
     "start_time": "2024-10-28T05:19:43.378470",
     "status": "completed"
    },
    "tags": []
   },
   "source": [
    "### Model assessment"
   ]
  },
  {
   "cell_type": "code",
   "execution_count": 14,
   "id": "978153ca",
   "metadata": {
    "execution": {
     "iopub.execute_input": "2024-10-28T05:19:43.408603Z",
     "iopub.status.busy": "2024-10-28T05:19:43.408189Z",
     "iopub.status.idle": "2024-10-28T05:19:43.427509Z",
     "shell.execute_reply": "2024-10-28T05:19:43.426321Z"
    },
    "papermill": {
     "duration": 0.032711,
     "end_time": "2024-10-28T05:19:43.430324",
     "exception": false,
     "start_time": "2024-10-28T05:19:43.397613",
     "status": "completed"
    },
    "tags": []
   },
   "outputs": [
    {
     "name": "stdout",
     "output_type": "stream",
     "text": [
      "The model's accuracy: 0.81\n",
      "\n",
      "              precision    recall  f1-score   support\n",
      "\n",
      "           0       0.90      1.00      0.95        26\n",
      "           1       0.00      0.00      0.00         2\n",
      "           3       0.50      0.33      0.40         3\n",
      "           4       0.00      0.00      0.00         4\n",
      "           5       0.73      0.89      0.80         9\n",
      "           6       0.67      1.00      0.80         4\n",
      "\n",
      "    accuracy                           0.81        48\n",
      "   macro avg       0.47      0.54      0.49        48\n",
      "weighted avg       0.71      0.81      0.75        48\n",
      "\n"
     ]
    },
    {
     "name": "stderr",
     "output_type": "stream",
     "text": [
      "/opt/conda/lib/python3.10/site-packages/sklearn/metrics/_classification.py:1344: UndefinedMetricWarning: Precision and F-score are ill-defined and being set to 0.0 in labels with no predicted samples. Use `zero_division` parameter to control this behavior.\n",
      "  _warn_prf(average, modifier, msg_start, len(result))\n",
      "/opt/conda/lib/python3.10/site-packages/sklearn/metrics/_classification.py:1344: UndefinedMetricWarning: Precision and F-score are ill-defined and being set to 0.0 in labels with no predicted samples. Use `zero_division` parameter to control this behavior.\n",
      "  _warn_prf(average, modifier, msg_start, len(result))\n",
      "/opt/conda/lib/python3.10/site-packages/sklearn/metrics/_classification.py:1344: UndefinedMetricWarning: Precision and F-score are ill-defined and being set to 0.0 in labels with no predicted samples. Use `zero_division` parameter to control this behavior.\n",
      "  _warn_prf(average, modifier, msg_start, len(result))\n"
     ]
    }
   ],
   "source": [
    "accuracy = accuracy_score(y_test, y_pred)\n",
    "report = classification_report(y_test, y_pred)\n",
    "\n",
    "print(f\"The model's accuracy: {accuracy:.2f}\\n\")\n",
    "print(report)"
   ]
  },
  {
   "cell_type": "code",
   "execution_count": 15,
   "id": "744d39ef",
   "metadata": {
    "execution": {
     "iopub.execute_input": "2024-10-28T05:19:43.450920Z",
     "iopub.status.busy": "2024-10-28T05:19:43.450445Z",
     "iopub.status.idle": "2024-10-28T05:19:43.807927Z",
     "shell.execute_reply": "2024-10-28T05:19:43.806703Z"
    },
    "papermill": {
     "duration": 0.372357,
     "end_time": "2024-10-28T05:19:43.812038",
     "exception": false,
     "start_time": "2024-10-28T05:19:43.439681",
     "status": "completed"
    },
    "tags": []
   },
   "outputs": [
    {
     "data": {
      "image/png": "[encoded data removed]",
      "text/plain": [
       "<Figure size 600x500 with 1 Axes>"
      ]
     },
     "metadata": {},
     "output_type": "display_data"
    }
   ],
   "source": [
    "conf_matrix = confusion_matrix(y_test, y_pred)\n",
    "\n",
    "# Plot the confusion matrix using a heatmap\n",
    "plt.figure(figsize=(6, 5))\n",
    "sns.heatmap(conf_matrix, annot=True, fmt='g', cmap='Blues', cbar=False,\n",
    "            xticklabels=['Class 0', 'Class 1', 'Class 2', 'Class 3', 'Class 4', 'Class 5'],\n",
    "            yticklabels=['Class 0', 'Class 1', 'Class 2', 'Class 3', 'Class 4', 'Class 5'])\n",
    "\n",
    "plt.title('Confusion Matrix for Spectral Class Prediction')\n",
    "plt.xlabel('Predicted Label')\n",
    "plt.ylabel('True Label')\n",
    "plt.tight_layout()\n",
    "plt.show()"
   ]
  },
  {
   "cell_type": "markdown",
   "id": "0cae3a97",
   "metadata": {
    "papermill": {
     "duration": 0.009564,
     "end_time": "2024-10-28T05:19:43.833024",
     "exception": false,
     "start_time": "2024-10-28T05:19:43.823460",
     "status": "completed"
    },
    "tags": []
   },
   "source": [
    "### Data augmentation"
   ]
  },
  {
   "cell_type": "code",
   "execution_count": 16,
   "id": "f2c27962",
   "metadata": {
    "execution": {
     "iopub.execute_input": "2024-10-28T05:19:43.854707Z",
     "iopub.status.busy": "2024-10-28T05:19:43.854285Z",
     "iopub.status.idle": "2024-10-28T05:19:43.876846Z",
     "shell.execute_reply": "2024-10-28T05:19:43.875622Z"
    },
    "papermill": {
     "duration": 0.03594,
     "end_time": "2024-10-28T05:19:43.879078",
     "exception": false,
     "start_time": "2024-10-28T05:19:43.843138",
     "status": "completed"
    },
    "tags": []
   },
   "outputs": [
    {
     "name": "stdout",
     "output_type": "stream",
     "text": [
      "Spectral Class\n",
      "0    109\n",
      "5    106\n",
      "6     98\n",
      "4     88\n",
      "3     87\n",
      "1     85\n",
      "2     85\n",
      "Name: count, dtype: int64\n"
     ]
    }
   ],
   "source": [
    "x = df[['Temperature (K)', 'Luminosity(L/Lo)', 'Radius(R/Ro)', 'Absolute magnitude(Mv)']]\n",
    "y = df[\"Spectral Class\"]\n",
    "\n",
    "clf = KNeighborsClassifier()\n",
    "\n",
    "sampler = RandomOverSampler(sampling_strategy = {5:106, 6:98, 4:88, 3: 87, 1:85, 2:85},random_state=0)\n",
    "model = make_pipeline(sampler, clf).fit(x,y)\n",
    "\n",
    "x_res, y_res = sampler.fit_resample(x,y)\n",
    "print(y_res.value_counts())"
   ]
  },
  {
   "cell_type": "code",
   "execution_count": 17,
   "id": "002dbae6",
   "metadata": {
    "execution": {
     "iopub.execute_input": "2024-10-28T05:19:43.901291Z",
     "iopub.status.busy": "2024-10-28T05:19:43.900536Z",
     "iopub.status.idle": "2024-10-28T05:19:43.916640Z",
     "shell.execute_reply": "2024-10-28T05:19:43.915574Z"
    },
    "papermill": {
     "duration": 0.029713,
     "end_time": "2024-10-28T05:19:43.918874",
     "exception": false,
     "start_time": "2024-10-28T05:19:43.889161",
     "status": "completed"
    },
    "tags": []
   },
   "outputs": [
    {
     "data": {
      "text/html": [
       "<div>\n",
       "<style scoped>\n",
       "    .dataframe tbody tr th:only-of-type {\n",
       "        vertical-align: middle;\n",
       "    }\n",
       "\n",
       "    .dataframe tbody tr th {\n",
       "        vertical-align: top;\n",
       "    }\n",
       "\n",
       "    .dataframe thead th {\n",
       "        text-align: right;\n",
       "    }\n",
       "</style>\n",
       "<table border=\"1\" class=\"dataframe\">\n",
       "  <thead>\n",
       "    <tr style=\"text-align: right;\">\n",
       "      <th></th>\n",
       "      <th>Temperature (K)</th>\n",
       "      <th>Luminosity(L/Lo)</th>\n",
       "      <th>Radius(R/Ro)</th>\n",
       "      <th>Absolute magnitude(Mv)</th>\n",
       "      <th>Spectral Class</th>\n",
       "    </tr>\n",
       "  </thead>\n",
       "  <tbody>\n",
       "    <tr>\n",
       "      <th>0</th>\n",
       "      <td>3042.0</td>\n",
       "      <td>0.000500</td>\n",
       "      <td>0.154200</td>\n",
       "      <td>16.600</td>\n",
       "      <td>0</td>\n",
       "    </tr>\n",
       "    <tr>\n",
       "      <th>1</th>\n",
       "      <td>2600.0</td>\n",
       "      <td>0.000300</td>\n",
       "      <td>0.102000</td>\n",
       "      <td>18.700</td>\n",
       "      <td>0</td>\n",
       "    </tr>\n",
       "    <tr>\n",
       "      <th>2</th>\n",
       "      <td>2800.0</td>\n",
       "      <td>0.000200</td>\n",
       "      <td>238.393907</td>\n",
       "      <td>16.650</td>\n",
       "      <td>0</td>\n",
       "    </tr>\n",
       "    <tr>\n",
       "      <th>3</th>\n",
       "      <td>1939.0</td>\n",
       "      <td>0.000138</td>\n",
       "      <td>0.103000</td>\n",
       "      <td>20.060</td>\n",
       "      <td>0</td>\n",
       "    </tr>\n",
       "    <tr>\n",
       "      <th>4</th>\n",
       "      <td>2840.0</td>\n",
       "      <td>107266.981895</td>\n",
       "      <td>0.110000</td>\n",
       "      <td>16.980</td>\n",
       "      <td>0</td>\n",
       "    </tr>\n",
       "    <tr>\n",
       "      <th>...</th>\n",
       "      <td>...</td>\n",
       "      <td>...</td>\n",
       "      <td>...</td>\n",
       "      <td>...</td>\n",
       "      <td>...</td>\n",
       "    </tr>\n",
       "    <tr>\n",
       "      <th>653</th>\n",
       "      <td>12749.0</td>\n",
       "      <td>332520.000000</td>\n",
       "      <td>238.393907</td>\n",
       "      <td>-7.020</td>\n",
       "      <td>6</td>\n",
       "    </tr>\n",
       "    <tr>\n",
       "      <th>654</th>\n",
       "      <td>32489.0</td>\n",
       "      <td>648430.000000</td>\n",
       "      <td>1948.500000</td>\n",
       "      <td>-10.840</td>\n",
       "      <td>6</td>\n",
       "    </tr>\n",
       "    <tr>\n",
       "      <th>655</th>\n",
       "      <td>24345.0</td>\n",
       "      <td>142000.000000</td>\n",
       "      <td>57.000000</td>\n",
       "      <td>-6.240</td>\n",
       "      <td>6</td>\n",
       "    </tr>\n",
       "    <tr>\n",
       "      <th>656</th>\n",
       "      <td>11567.0</td>\n",
       "      <td>251000.000000</td>\n",
       "      <td>36.000000</td>\n",
       "      <td>-6.245</td>\n",
       "      <td>6</td>\n",
       "    </tr>\n",
       "    <tr>\n",
       "      <th>657</th>\n",
       "      <td>14245.0</td>\n",
       "      <td>231000.000000</td>\n",
       "      <td>42.000000</td>\n",
       "      <td>-6.120</td>\n",
       "      <td>6</td>\n",
       "    </tr>\n",
       "  </tbody>\n",
       "</table>\n",
       "<p>658 rows × 5 columns</p>\n",
       "</div>"
      ],
      "text/plain": [
       "     Temperature (K)  Luminosity(L/Lo)  Radius(R/Ro)  Absolute magnitude(Mv)  \\\n",
       "0             3042.0          0.000500      0.154200                  16.600   \n",
       "1             2600.0          0.000300      0.102000                  18.700   \n",
       "2             2800.0          0.000200    238.393907                  16.650   \n",
       "3             1939.0          0.000138      0.103000                  20.060   \n",
       "4             2840.0     107266.981895      0.110000                  16.980   \n",
       "..               ...               ...           ...                     ...   \n",
       "653          12749.0     332520.000000    238.393907                  -7.020   \n",
       "654          32489.0     648430.000000   1948.500000                 -10.840   \n",
       "655          24345.0     142000.000000     57.000000                  -6.240   \n",
       "656          11567.0     251000.000000     36.000000                  -6.245   \n",
       "657          14245.0     231000.000000     42.000000                  -6.120   \n",
       "\n",
       "     Spectral Class  \n",
       "0                 0  \n",
       "1                 0  \n",
       "2                 0  \n",
       "3                 0  \n",
       "4                 0  \n",
       "..              ...  \n",
       "653               6  \n",
       "654               6  \n",
       "655               6  \n",
       "656               6  \n",
       "657               6  \n",
       "\n",
       "[658 rows x 5 columns]"
      ]
     },
     "execution_count": 17,
     "metadata": {},
     "output_type": "execute_result"
    }
   ],
   "source": [
    "df_res = pd.DataFrame(x_res, columns=x.columns)\n",
    "df_res['Spectral Class'] = y_res\n",
    "\n",
    "df_res"
   ]
  },
  {
   "cell_type": "code",
   "execution_count": 18,
   "id": "ec8c6ab8",
   "metadata": {
    "execution": {
     "iopub.execute_input": "2024-10-28T05:19:43.941317Z",
     "iopub.status.busy": "2024-10-28T05:19:43.940895Z",
     "iopub.status.idle": "2024-10-28T05:19:43.958111Z",
     "shell.execute_reply": "2024-10-28T05:19:43.957071Z"
    },
    "papermill": {
     "duration": 0.031181,
     "end_time": "2024-10-28T05:19:43.960483",
     "exception": false,
     "start_time": "2024-10-28T05:19:43.929302",
     "status": "completed"
    },
    "tags": []
   },
   "outputs": [],
   "source": [
    "#outlier transformation for temperature, luminosity, and radius\n",
    "df_res['temp_log'] = np.log1p(df_res[\"Temperature (K)\"])\n",
    "df_res['lum_log'] = np.log1p(df_res[\"Luminosity(L/Lo)\"])\n",
    "df_res['rad_log'] = np.log1p(df_res[\"Radius(R/Ro)\"])\n",
    "\n",
    "#define x and y features\n",
    "x_features = df_res[['temp_log', 'lum_log', 'rad_log', 'Absolute magnitude(Mv)']]\n",
    "y_features = df_res[\"Spectral Class\"]\n",
    "\n",
    "#split the data into training and test sets\n",
    "x_train, x_test, y_train, y_test = train_test_split(x_features, y_features, test_size=0.2, random_state=42)\n",
    "\n",
    "model = KNeighborsClassifier(n_neighbors=5, weights='distance') #initialize KNN classifier as model with weighted distances\n",
    "model.fit(x_train, y_train) #fit training sets into the model\n",
    "\n",
    "y_pred = model.predict(x_test) #predict y_pred by using the model on x_test values "
   ]
  },
  {
   "cell_type": "code",
   "execution_count": 19,
   "id": "75c3c9c1",
   "metadata": {
    "execution": {
     "iopub.execute_input": "2024-10-28T05:19:43.984570Z",
     "iopub.status.busy": "2024-10-28T05:19:43.984192Z",
     "iopub.status.idle": "2024-10-28T05:19:43.999910Z",
     "shell.execute_reply": "2024-10-28T05:19:43.998811Z"
    },
    "papermill": {
     "duration": 0.029749,
     "end_time": "2024-10-28T05:19:44.002243",
     "exception": false,
     "start_time": "2024-10-28T05:19:43.972494",
     "status": "completed"
    },
    "tags": []
   },
   "outputs": [
    {
     "name": "stdout",
     "output_type": "stream",
     "text": [
      "The model's accuracy: 0.95\n",
      "\n",
      "              precision    recall  f1-score   support\n",
      "\n",
      "           0       1.00      0.78      0.88        32\n",
      "           1       0.83      1.00      0.90        19\n",
      "           2       1.00      1.00      1.00        15\n",
      "           3       0.85      1.00      0.92        11\n",
      "           4       1.00      1.00      1.00        12\n",
      "           5       1.00      1.00      1.00        21\n",
      "           6       0.96      1.00      0.98        22\n",
      "\n",
      "    accuracy                           0.95       132\n",
      "   macro avg       0.95      0.97      0.95       132\n",
      "weighted avg       0.95      0.95      0.95       132\n",
      "\n"
     ]
    }
   ],
   "source": [
    "accuracy = accuracy_score(y_test, y_pred)\n",
    "report = classification_report(y_test, y_pred)\n",
    "\n",
    "print(f\"The model's accuracy: {accuracy:.2f}\\n\")\n",
    "print(report)"
   ]
  },
  {
   "cell_type": "code",
   "execution_count": 20,
   "id": "579d2290",
   "metadata": {
    "execution": {
     "iopub.execute_input": "2024-10-28T05:19:44.026568Z",
     "iopub.status.busy": "2024-10-28T05:19:44.025251Z",
     "iopub.status.idle": "2024-10-28T05:19:44.416905Z",
     "shell.execute_reply": "2024-10-28T05:19:44.415806Z"
    },
    "papermill": {
     "duration": 0.406523,
     "end_time": "2024-10-28T05:19:44.419400",
     "exception": false,
     "start_time": "2024-10-28T05:19:44.012877",
     "status": "completed"
    },
    "tags": []
   },
   "outputs": [
    {
     "data": {
      "image/png": "[encoded data removed]",
      "text/plain": [
       "<Figure size 600x500 with 1 Axes>"
      ]
     },
     "metadata": {},
     "output_type": "display_data"
    }
   ],
   "source": [
    "conf_matrix = confusion_matrix(y_test, y_pred)\n",
    "\n",
    "# Plot the confusion matrix using a heatmap\n",
    "plt.figure(figsize=(6, 5))\n",
    "sns.heatmap(conf_matrix, annot=True, fmt='g', cmap='Blues', cbar=False,\n",
    "            xticklabels=['Class 0', 'Class 1', 'Class 2', 'Class 3', 'Class 4', 'Class 5'],\n",
    "            yticklabels=['Class 0', 'Class 1', 'Class 2', 'Class 3', 'Class 4', 'Class 5'])\n",
    "\n",
    "plt.title('Confusion Matrix for Spectral Class Prediction')\n",
    "plt.xlabel('Predicted Label')\n",
    "plt.ylabel('True Label')\n",
    "plt.tight_layout()\n",
    "plt.show()"
   ]
  }
 ],
 "metadata": {
  "kaggle": {
   "accelerator": "none",
   "dataSources": [
    {
     "datasetId": 5536083,
     "sourceId": 9163054,
     "sourceType": "datasetVersion"
    }
   ],
   "dockerImageVersionId": 30786,
   "isGpuEnabled": false,
   "isInternetEnabled": false,
   "language": "python",
   "sourceType": "notebook"
  },
  "kernelspec": {
   "display_name": "Python 3",
   "language": "python",
   "name": "python3"
  },
  "language_info": {
   "codemirror_mode": {
    "name": "ipython",
    "version": 3
   },
   "file_extension": ".py",
   "mimetype": "text/x-python",
   "name": "python",
   "nbconvert_exporter": "python",
   "pygments_lexer": "ipython3",
   "version": "3.10.14"
  },
  "papermill": {
   "default_parameters": {},
   "duration": 9.705671,
   "end_time": "2024-10-28T05:19:45.050913",
   "environment_variables": {},
   "exception": null,
   "input_path": "__notebook__.ipynb",
   "output_path": "__notebook__.ipynb",
   "parameters": {},
   "start_time": "2024-10-28T05:19:35.345242",
   "version": "2.6.0"
  }
 },
 "nbformat": 4,
 "nbformat_minor": 5
}
